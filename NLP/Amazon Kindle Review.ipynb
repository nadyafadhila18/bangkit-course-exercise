{
 "cells": [
  {
   "cell_type": "markdown",
   "id": "5fec73de",
   "metadata": {},
   "source": [
    "# Amazon Kindle Sentiment Analysis"
   ]
  },
  {
   "cell_type": "markdown",
   "id": "779cd6e7",
   "metadata": {},
   "source": [
    "### Import Library\n",
    "Importing the library that we will need, in this project we use matplotlib and seaborn to visualize the data, we use train_test_split from sklearn to splitting the dataset, and we use Conv1D and also LSTM to have predict of this analysis"
   ]
  },
  {
   "cell_type": "code",
   "execution_count": 1,
   "id": "843edbea",
   "metadata": {},
   "outputs": [
    {
     "name": "stderr",
     "output_type": "stream",
     "text": [
      "[nltk_data] Downloading package stopwords to\n",
      "[nltk_data]     C:\\Users\\hp\\AppData\\Roaming\\nltk_data...\n",
      "[nltk_data]   Package stopwords is already up-to-date!\n"
     ]
    }
   ],
   "source": [
    "import pandas as pd \n",
    "import numpy as np \n",
    "import matplotlib.pyplot as plt \n",
    "import seaborn as sns\n",
    "import tensorflow as tf\n",
    "#from wordcloud import WordCloud, STOPWORDS, ImageColorGenerator\n",
    "import re\n",
    "import json \n",
    "import string\n",
    "import unicodedata\n",
    "from tensorflow.keras.preprocessing.sequence import pad_sequences\n",
    "from tensorflow.keras.models import Sequential\n",
    "from tensorflow.keras.layers import LSTM,Dense, Dropout\n",
    "from tensorflow.keras.layers import Embedding\n",
    "from nltk.stem import WordNetLemmatizer\n",
    "from sklearn.model_selection import train_test_split \n",
    "from tensorflow.keras.preprocessing.text import Tokenizer\n",
    "import warnings\n",
    "warnings.filterwarnings('ignore')"
   ]
  },
  {
   "cell_type": "markdown",
   "id": "e55b0d42",
   "metadata": {},
   "source": [
    "### Load the Data from local directory\n",
    "The source of dataset are from kaggle (https://www.kaggle.com/datasets/meetnagadia/amazon-kindle-book-review-for-sentiment-analysis)\n",
    "and I used this dataset for the learning purposed."
   ]
  },
  {
   "cell_type": "code",
   "execution_count": 2,
   "id": "752bc608",
   "metadata": {},
   "outputs": [
    {
     "data": {
      "text/html": [
       "<div>\n",
       "<style scoped>\n",
       "    .dataframe tbody tr th:only-of-type {\n",
       "        vertical-align: middle;\n",
       "    }\n",
       "\n",
       "    .dataframe tbody tr th {\n",
       "        vertical-align: top;\n",
       "    }\n",
       "\n",
       "    .dataframe thead th {\n",
       "        text-align: right;\n",
       "    }\n",
       "</style>\n",
       "<table border=\"1\" class=\"dataframe\">\n",
       "  <thead>\n",
       "    <tr style=\"text-align: right;\">\n",
       "      <th></th>\n",
       "      <th>Unnamed: 0</th>\n",
       "      <th>rating</th>\n",
       "      <th>reviewText</th>\n",
       "      <th>summary</th>\n",
       "    </tr>\n",
       "  </thead>\n",
       "  <tbody>\n",
       "    <tr>\n",
       "      <th>0</th>\n",
       "      <td>0</td>\n",
       "      <td>5</td>\n",
       "      <td>This book was the very first bookmobile book I...</td>\n",
       "      <td>50 + years ago...</td>\n",
       "    </tr>\n",
       "    <tr>\n",
       "      <th>1</th>\n",
       "      <td>1</td>\n",
       "      <td>1</td>\n",
       "      <td>When I read the description for this book, I c...</td>\n",
       "      <td>Boring! Boring! Boring!</td>\n",
       "    </tr>\n",
       "    <tr>\n",
       "      <th>2</th>\n",
       "      <td>2</td>\n",
       "      <td>5</td>\n",
       "      <td>I just had to edit this review. This book is a...</td>\n",
       "      <td>Wiggleliscious/new toy ready/!!</td>\n",
       "    </tr>\n",
       "    <tr>\n",
       "      <th>3</th>\n",
       "      <td>3</td>\n",
       "      <td>5</td>\n",
       "      <td>I don't normally buy 'mystery' novels because ...</td>\n",
       "      <td>Very good read.</td>\n",
       "    </tr>\n",
       "    <tr>\n",
       "      <th>4</th>\n",
       "      <td>4</td>\n",
       "      <td>5</td>\n",
       "      <td>This isn't the kind of book I normally read, a...</td>\n",
       "      <td>Great Story!</td>\n",
       "    </tr>\n",
       "  </tbody>\n",
       "</table>\n",
       "</div>"
      ],
      "text/plain": [
       "   Unnamed: 0  rating                                         reviewText  \\\n",
       "0           0       5  This book was the very first bookmobile book I...   \n",
       "1           1       1  When I read the description for this book, I c...   \n",
       "2           2       5  I just had to edit this review. This book is a...   \n",
       "3           3       5  I don't normally buy 'mystery' novels because ...   \n",
       "4           4       5  This isn't the kind of book I normally read, a...   \n",
       "\n",
       "                           summary  \n",
       "0                50 + years ago...  \n",
       "1          Boring! Boring! Boring!  \n",
       "2  Wiggleliscious/new toy ready/!!  \n",
       "3                  Very good read.  \n",
       "4                     Great Story!  "
      ]
     },
     "execution_count": 2,
     "metadata": {},
     "output_type": "execute_result"
    }
   ],
   "source": [
    "data = pd.read_csv('./preprocessed_kindle_review .csv')\n",
    "data.head()"
   ]
  },
  {
   "cell_type": "markdown",
   "id": "ef11b061",
   "metadata": {},
   "source": [
    "### Cleaning the Data"
   ]
  },
  {
   "cell_type": "code",
   "execution_count": 3,
   "id": "f90a214e",
   "metadata": {},
   "outputs": [
    {
     "data": {
      "text/plain": [
       "Unnamed: 0    0\n",
       "rating        0\n",
       "reviewText    0\n",
       "summary       0\n",
       "dtype: int64"
      ]
     },
     "execution_count": 3,
     "metadata": {},
     "output_type": "execute_result"
    }
   ],
   "source": [
    "data.isnull().sum()"
   ]
  },
  {
   "cell_type": "code",
   "execution_count": 4,
   "id": "28c615c4",
   "metadata": {},
   "outputs": [
    {
     "data": {
      "text/html": [
       "<div>\n",
       "<style scoped>\n",
       "    .dataframe tbody tr th:only-of-type {\n",
       "        vertical-align: middle;\n",
       "    }\n",
       "\n",
       "    .dataframe tbody tr th {\n",
       "        vertical-align: top;\n",
       "    }\n",
       "\n",
       "    .dataframe thead th {\n",
       "        text-align: right;\n",
       "    }\n",
       "</style>\n",
       "<table border=\"1\" class=\"dataframe\">\n",
       "  <thead>\n",
       "    <tr style=\"text-align: right;\">\n",
       "      <th></th>\n",
       "      <th>reviewText</th>\n",
       "      <th>rating</th>\n",
       "    </tr>\n",
       "  </thead>\n",
       "  <tbody>\n",
       "    <tr>\n",
       "      <th>0</th>\n",
       "      <td>This book was the very first bookmobile book I...</td>\n",
       "      <td>5</td>\n",
       "    </tr>\n",
       "    <tr>\n",
       "      <th>1</th>\n",
       "      <td>When I read the description for this book, I c...</td>\n",
       "      <td>1</td>\n",
       "    </tr>\n",
       "    <tr>\n",
       "      <th>2</th>\n",
       "      <td>I just had to edit this review. This book is a...</td>\n",
       "      <td>5</td>\n",
       "    </tr>\n",
       "    <tr>\n",
       "      <th>3</th>\n",
       "      <td>I don't normally buy 'mystery' novels because ...</td>\n",
       "      <td>5</td>\n",
       "    </tr>\n",
       "    <tr>\n",
       "      <th>4</th>\n",
       "      <td>This isn't the kind of book I normally read, a...</td>\n",
       "      <td>5</td>\n",
       "    </tr>\n",
       "  </tbody>\n",
       "</table>\n",
       "</div>"
      ],
      "text/plain": [
       "                                          reviewText  rating\n",
       "0  This book was the very first bookmobile book I...       5\n",
       "1  When I read the description for this book, I c...       1\n",
       "2  I just had to edit this review. This book is a...       5\n",
       "3  I don't normally buy 'mystery' novels because ...       5\n",
       "4  This isn't the kind of book I normally read, a...       5"
      ]
     },
     "execution_count": 4,
     "metadata": {},
     "output_type": "execute_result"
    }
   ],
   "source": [
    "data_new = data[['reviewText', 'rating']]\n",
    "data_new.head()"
   ]
  },
  {
   "cell_type": "code",
   "execution_count": null,
   "id": "13573a57",
   "metadata": {},
   "outputs": [],
   "source": [
    "data_new['rating'].value_counts()"
   ]
  },
  {
   "cell_type": "markdown",
   "id": "de6bfffa",
   "metadata": {},
   "source": [
    "### Visualize the data\n",
    "In this section, it shows 5 rating category of Amazon's Kindle, and the positive reviews (4 and 5 stars) have similar amount.\n",
    "Same as the negative reviews the 3 bottom of the review have a similar amount"
   ]
  },
  {
   "cell_type": "code",
   "execution_count": 6,
   "id": "cb33d4aa",
   "metadata": {},
   "outputs": [
    {
     "data": {
      "text/plain": [
       "Text(0.5, 0, 'Rating')"
      ]
     },
     "execution_count": 6,
     "metadata": {},
     "output_type": "execute_result"
    },
    {
     "data": {
      "image/png": "[encoded data removed]",
      "text/plain": [
       "<Figure size 504x432 with 1 Axes>"
      ]
     },
     "metadata": {
      "needs_background": "light"
     },
     "output_type": "display_data"
    }
   ],
   "source": [
    "colorss = ['#DAF7A6', '#FFC300', '#FF5733', '#C70039', '#900C3F']\n",
    "data_new['rating'].value_counts().plot(kind='bar', color = colorss, figsize=(7, 6), rot = 0);\n",
    "plt.xlabel(\"Rating\", labelpad=14)"
   ]
  },
  {
   "cell_type": "markdown",
   "id": "d4021f14",
   "metadata": {},
   "source": [
    "We divided into 2 category, the first one is positive reviews (4 and 5 Stars) and the negative one (1,2 and 3 Stars), we use .loc\n",
    "to have labelled category"
   ]
  },
  {
   "cell_type": "code",
   "execution_count": 7,
   "id": "ee6af5c3",
   "metadata": {},
   "outputs": [],
   "source": [
    "data_new.loc[data_new['rating'] > 3,'rating_cat'] = 'Positive'\n",
    "#data_new.loc[data_new['rating'] == 3,'rating_cat'] = 'Neutral'\n",
    "data_new.loc[data_new['rating'] <= 3,'rating_cat'] = 'Negative'"
   ]
  },
  {
   "cell_type": "code",
   "execution_count": 8,
   "id": "7e747953",
   "metadata": {},
   "outputs": [
    {
     "data": {
      "image/png": "[encoded data removed]",
      "text/plain": [
       "<Figure size 504x432 with 1 Axes>"
      ]
     },
     "metadata": {
      "needs_background": "light"
     },
     "output_type": "display_data"
    }
   ],
   "source": [
    "data_new['rating_cat'].value_counts().plot(kind='bar', color = colorss, figsize=(7, 6), rot = 0);"
   ]
  },
  {
   "cell_type": "markdown",
   "id": "cfd7aa12",
   "metadata": {},
   "source": [
    "## Preprocessing"
   ]
  },
  {
   "cell_type": "code",
   "execution_count": 9,
   "id": "31033cc2",
   "metadata": {},
   "outputs": [
    {
     "data": {
      "text/html": [
       "<div>\n",
       "<style scoped>\n",
       "    .dataframe tbody tr th:only-of-type {\n",
       "        vertical-align: middle;\n",
       "    }\n",
       "\n",
       "    .dataframe tbody tr th {\n",
       "        vertical-align: top;\n",
       "    }\n",
       "\n",
       "    .dataframe thead th {\n",
       "        text-align: right;\n",
       "    }\n",
       "</style>\n",
       "<table border=\"1\" class=\"dataframe\">\n",
       "  <thead>\n",
       "    <tr style=\"text-align: right;\">\n",
       "      <th></th>\n",
       "      <th>reviewText</th>\n",
       "      <th>rating</th>\n",
       "      <th>rating_cat</th>\n",
       "    </tr>\n",
       "  </thead>\n",
       "  <tbody>\n",
       "    <tr>\n",
       "      <th>0</th>\n",
       "      <td>this book was the very first bookmobile book i...</td>\n",
       "      <td>5</td>\n",
       "      <td>Positive</td>\n",
       "    </tr>\n",
       "    <tr>\n",
       "      <th>1</th>\n",
       "      <td>when i read the description for this book, i c...</td>\n",
       "      <td>1</td>\n",
       "      <td>Negative</td>\n",
       "    </tr>\n",
       "    <tr>\n",
       "      <th>2</th>\n",
       "      <td>i just had to edit this review. this book is a...</td>\n",
       "      <td>5</td>\n",
       "      <td>Positive</td>\n",
       "    </tr>\n",
       "    <tr>\n",
       "      <th>3</th>\n",
       "      <td>i don't normally buy 'mystery' novels because ...</td>\n",
       "      <td>5</td>\n",
       "      <td>Positive</td>\n",
       "    </tr>\n",
       "    <tr>\n",
       "      <th>4</th>\n",
       "      <td>this isn't the kind of book i normally read, a...</td>\n",
       "      <td>5</td>\n",
       "      <td>Positive</td>\n",
       "    </tr>\n",
       "  </tbody>\n",
       "</table>\n",
       "</div>"
      ],
      "text/plain": [
       "                                          reviewText  rating rating_cat\n",
       "0  this book was the very first bookmobile book i...       5   Positive\n",
       "1  when i read the description for this book, i c...       1   Negative\n",
       "2  i just had to edit this review. this book is a...       5   Positive\n",
       "3  i don't normally buy 'mystery' novels because ...       5   Positive\n",
       "4  this isn't the kind of book i normally read, a...       5   Positive"
      ]
     },
     "execution_count": 9,
     "metadata": {},
     "output_type": "execute_result"
    }
   ],
   "source": [
    "data_new['reviewText'] = data_new['reviewText'].str.lower() \n",
    "data_new.head()"
   ]
  },
  {
   "cell_type": "code",
   "execution_count": 10,
   "id": "e67d34bb",
   "metadata": {},
   "outputs": [],
   "source": [
    "data_new['reviewText'] = data_new['reviewText'].apply(lambda x: re.sub('[^a-z A-Z 0-9-]+', '', x))"
   ]
  },
  {
   "cell_type": "code",
   "execution_count": 11,
   "id": "16412438",
   "metadata": {},
   "outputs": [],
   "source": [
    "data_new['reviewText'] = data_new['reviewText'].apply(lambda x: re.sub(\"\\n\", \" \", x))"
   ]
  },
  {
   "cell_type": "markdown",
   "id": "6a860a17",
   "metadata": {},
   "source": [
    "### Removing the Stopwords\n",
    "Removing stopwords in Sentiment Analysis is an important part of preprocessinhg the data, this could remove the low-level information from our text in order to give more focus to the important information."
   ]
  },
  {
   "cell_type": "code",
   "execution_count": 12,
   "id": "ce0f9b40",
   "metadata": {},
   "outputs": [],
   "source": [
    "stopwords = [\"a\", \"about\", \"above\", \"after\", \"again\", \"against\", \"all\", \"am\", \n",
    "             \"an\", \"and\", \"any\", \"are\", \"as\", \"at\", \"be\", \"because\", \"been\", \n",
    "             \"before\", \"being\", \"below\", \"between\", \"both\", \"but\", \"by\", \"could\", \n",
    "             \"did\", \"do\", \"does\", \"doing\", \"down\", \"during\", \"each\", \"few\", \"for\", \n",
    "             \"from\", \"further\", \"had\", \"has\", \"have\", \"having\", \"he\", \"he'd\", \"he'll\", \n",
    "             \"he's\", \"her\", \"here\", \"here's\", \"hers\", \"herself\", \"him\", \"himself\", \n",
    "             \"his\", \"how\", \"how's\", \"i\", \"i'd\", \"i'll\", \"i'm\", \"i've\", \"if\", \"in\", \n",
    "             \"into\", \"is\", \"it\", \"it's\", \"its\", \"itself\", \"let's\", \"me\", \"more\", \n",
    "             \"most\", \"my\", \"myself\", \"nor\", \"of\", \"on\", \"once\", \"only\", \"or\", \"other\", \n",
    "             \"ought\", \"our\", \"ours\", \"ourselves\", \"out\", \"over\", \"own\", \"same\", \"she\", \n",
    "             \"she'd\", \"she'll\", \"she's\", \"should\", \"so\", \"some\", \"such\", \"than\", \"that\", \n",
    "             \"that's\", \"the\", \"their\", \"theirs\", \"them\", \"themselves\", \"then\", \"there\", \n",
    "             \"there's\", \"these\", \"they\", \"they'd\", \"they'll\", \"they're\", \"they've\", \"this\", \n",
    "             \"those\", \"through\", \"to\", \"too\", \"under\", \"until\", \"up\", \"very\", \"was\", \"we\", \n",
    "             \"we'd\", \"we'll\", \"we're\", \"we've\", \"were\", \"what\", \"what's\", \"when\", \"when's\", \n",
    "             \"where\", \"where's\", \"which\", \"while\", \"who\", \"who's\", \"whom\", \"why\", \"why's\", \n",
    "             \"with\", \"would\", \"you\", \"you'd\", \"you'll\", \"you're\", \"you've\", \"your\", \"yours\", \n",
    "             \"yourself\", \"yourselves\" ]\n",
    "\n",
    "data_new['reviewText'] = data_new['reviewText'].apply(lambda x: ' '.join([stop for stop in x.split() if stop not in stopwords]))"
   ]
  },
  {
   "cell_type": "code",
   "execution_count": 13,
   "id": "98f7d88a",
   "metadata": {},
   "outputs": [
    {
     "data": {
      "text/html": [
       "<div>\n",
       "<style scoped>\n",
       "    .dataframe tbody tr th:only-of-type {\n",
       "        vertical-align: middle;\n",
       "    }\n",
       "\n",
       "    .dataframe tbody tr th {\n",
       "        vertical-align: top;\n",
       "    }\n",
       "\n",
       "    .dataframe thead th {\n",
       "        text-align: right;\n",
       "    }\n",
       "</style>\n",
       "<table border=\"1\" class=\"dataframe\">\n",
       "  <thead>\n",
       "    <tr style=\"text-align: right;\">\n",
       "      <th></th>\n",
       "      <th>reviewText</th>\n",
       "      <th>rating</th>\n",
       "      <th>rating_cat</th>\n",
       "    </tr>\n",
       "  </thead>\n",
       "  <tbody>\n",
       "    <tr>\n",
       "      <th>0</th>\n",
       "      <td>book first bookmobile book bought school book ...</td>\n",
       "      <td>5</td>\n",
       "      <td>Positive</td>\n",
       "    </tr>\n",
       "    <tr>\n",
       "      <th>1</th>\n",
       "      <td>read description book couldnt wait read downlo...</td>\n",
       "      <td>1</td>\n",
       "      <td>Negative</td>\n",
       "    </tr>\n",
       "    <tr>\n",
       "      <th>2</th>\n",
       "      <td>just edit review book believe got right update...</td>\n",
       "      <td>5</td>\n",
       "      <td>Positive</td>\n",
       "    </tr>\n",
       "    <tr>\n",
       "      <th>3</th>\n",
       "      <td>dont normally buy mystery novels just dont lik...</td>\n",
       "      <td>5</td>\n",
       "      <td>Positive</td>\n",
       "    </tr>\n",
       "    <tr>\n",
       "      <th>4</th>\n",
       "      <td>isnt kind book normally read although try not ...</td>\n",
       "      <td>5</td>\n",
       "      <td>Positive</td>\n",
       "    </tr>\n",
       "    <tr>\n",
       "      <th>...</th>\n",
       "      <td>...</td>\n",
       "      <td>...</td>\n",
       "      <td>...</td>\n",
       "    </tr>\n",
       "    <tr>\n",
       "      <th>11995</th>\n",
       "      <td>read certain passages twice--typos wish built ...</td>\n",
       "      <td>2</td>\n",
       "      <td>Negative</td>\n",
       "    </tr>\n",
       "    <tr>\n",
       "      <th>11996</th>\n",
       "      <td>not expected yet interesting book usually don8...</td>\n",
       "      <td>3</td>\n",
       "      <td>Negative</td>\n",
       "    </tr>\n",
       "    <tr>\n",
       "      <th>11997</th>\n",
       "      <td>dragon knights world knights ride dragons not ...</td>\n",
       "      <td>5</td>\n",
       "      <td>Positive</td>\n",
       "    </tr>\n",
       "    <tr>\n",
       "      <th>11998</th>\n",
       "      <td>since story short hard say much without giving...</td>\n",
       "      <td>4</td>\n",
       "      <td>Positive</td>\n",
       "    </tr>\n",
       "    <tr>\n",
       "      <th>11999</th>\n",
       "      <td>1922 amazing collection info symbols cultures ...</td>\n",
       "      <td>4</td>\n",
       "      <td>Positive</td>\n",
       "    </tr>\n",
       "  </tbody>\n",
       "</table>\n",
       "<p>12000 rows × 3 columns</p>\n",
       "</div>"
      ],
      "text/plain": [
       "                                              reviewText  rating rating_cat\n",
       "0      book first bookmobile book bought school book ...       5   Positive\n",
       "1      read description book couldnt wait read downlo...       1   Negative\n",
       "2      just edit review book believe got right update...       5   Positive\n",
       "3      dont normally buy mystery novels just dont lik...       5   Positive\n",
       "4      isnt kind book normally read although try not ...       5   Positive\n",
       "...                                                  ...     ...        ...\n",
       "11995  read certain passages twice--typos wish built ...       2   Negative\n",
       "11996  not expected yet interesting book usually don8...       3   Negative\n",
       "11997  dragon knights world knights ride dragons not ...       5   Positive\n",
       "11998  since story short hard say much without giving...       4   Positive\n",
       "11999  1922 amazing collection info symbols cultures ...       4   Positive\n",
       "\n",
       "[12000 rows x 3 columns]"
      ]
     },
     "execution_count": 13,
     "metadata": {},
     "output_type": "execute_result"
    }
   ],
   "source": [
    "data_new"
   ]
  },
  {
   "cell_type": "markdown",
   "id": "b6005875",
   "metadata": {},
   "source": [
    "### Splitting the dataset\n",
    "We use train_test_split from sklearn library and have 0.2 test size and 0.8 training size"
   ]
  },
  {
   "cell_type": "code",
   "execution_count": 14,
   "id": "70a0a7f6",
   "metadata": {},
   "outputs": [],
   "source": [
    "x_train, x_test, y_train, y_test = train_test_split(data_new['reviewText'], data_new['rating'], test_size = 0.2)"
   ]
  },
  {
   "cell_type": "markdown",
   "id": "f14433c5",
   "metadata": {},
   "source": [
    "Labelling the dataset into boolean type, so it can easier to the factorize part"
   ]
  },
  {
   "cell_type": "code",
   "execution_count": 15,
   "id": "e697ea54",
   "metadata": {},
   "outputs": [],
   "source": [
    "data_new.rating=data_new.rating.replace([1,2,3],0)\n",
    "data_new.rating=data_new.rating.replace([4,5],1)"
   ]
  },
  {
   "cell_type": "code",
   "execution_count": 16,
   "id": "97ccfb17",
   "metadata": {},
   "outputs": [
    {
     "data": {
      "text/plain": [
       "(array([0, 1, 0, ..., 0, 0, 0], dtype=int64),\n",
       " Int64Index([1, 0], dtype='int64'))"
      ]
     },
     "execution_count": 16,
     "metadata": {},
     "output_type": "execute_result"
    }
   ],
   "source": [
    "factorize_label = data_new.rating.factorize()\n",
    "factorize_label"
   ]
  },
  {
   "cell_type": "code",
   "execution_count": 17,
   "id": "aa93afb6",
   "metadata": {},
   "outputs": [
    {
     "data": {
      "text/html": [
       "<div>\n",
       "<style scoped>\n",
       "    .dataframe tbody tr th:only-of-type {\n",
       "        vertical-align: middle;\n",
       "    }\n",
       "\n",
       "    .dataframe tbody tr th {\n",
       "        vertical-align: top;\n",
       "    }\n",
       "\n",
       "    .dataframe thead th {\n",
       "        text-align: right;\n",
       "    }\n",
       "</style>\n",
       "<table border=\"1\" class=\"dataframe\">\n",
       "  <thead>\n",
       "    <tr style=\"text-align: right;\">\n",
       "      <th></th>\n",
       "      <th>reviewText</th>\n",
       "      <th>rating</th>\n",
       "      <th>rating_cat</th>\n",
       "    </tr>\n",
       "  </thead>\n",
       "  <tbody>\n",
       "    <tr>\n",
       "      <th>0</th>\n",
       "      <td>book first bookmobile book bought school book ...</td>\n",
       "      <td>1</td>\n",
       "      <td>Positive</td>\n",
       "    </tr>\n",
       "    <tr>\n",
       "      <th>1</th>\n",
       "      <td>read description book couldnt wait read downlo...</td>\n",
       "      <td>0</td>\n",
       "      <td>Negative</td>\n",
       "    </tr>\n",
       "    <tr>\n",
       "      <th>2</th>\n",
       "      <td>just edit review book believe got right update...</td>\n",
       "      <td>1</td>\n",
       "      <td>Positive</td>\n",
       "    </tr>\n",
       "    <tr>\n",
       "      <th>3</th>\n",
       "      <td>dont normally buy mystery novels just dont lik...</td>\n",
       "      <td>1</td>\n",
       "      <td>Positive</td>\n",
       "    </tr>\n",
       "    <tr>\n",
       "      <th>4</th>\n",
       "      <td>isnt kind book normally read although try not ...</td>\n",
       "      <td>1</td>\n",
       "      <td>Positive</td>\n",
       "    </tr>\n",
       "    <tr>\n",
       "      <th>...</th>\n",
       "      <td>...</td>\n",
       "      <td>...</td>\n",
       "      <td>...</td>\n",
       "    </tr>\n",
       "    <tr>\n",
       "      <th>11995</th>\n",
       "      <td>read certain passages twice--typos wish built ...</td>\n",
       "      <td>0</td>\n",
       "      <td>Negative</td>\n",
       "    </tr>\n",
       "    <tr>\n",
       "      <th>11996</th>\n",
       "      <td>not expected yet interesting book usually don8...</td>\n",
       "      <td>0</td>\n",
       "      <td>Negative</td>\n",
       "    </tr>\n",
       "    <tr>\n",
       "      <th>11997</th>\n",
       "      <td>dragon knights world knights ride dragons not ...</td>\n",
       "      <td>1</td>\n",
       "      <td>Positive</td>\n",
       "    </tr>\n",
       "    <tr>\n",
       "      <th>11998</th>\n",
       "      <td>since story short hard say much without giving...</td>\n",
       "      <td>1</td>\n",
       "      <td>Positive</td>\n",
       "    </tr>\n",
       "    <tr>\n",
       "      <th>11999</th>\n",
       "      <td>1922 amazing collection info symbols cultures ...</td>\n",
       "      <td>1</td>\n",
       "      <td>Positive</td>\n",
       "    </tr>\n",
       "  </tbody>\n",
       "</table>\n",
       "<p>12000 rows × 3 columns</p>\n",
       "</div>"
      ],
      "text/plain": [
       "                                              reviewText  rating rating_cat\n",
       "0      book first bookmobile book bought school book ...       1   Positive\n",
       "1      read description book couldnt wait read downlo...       0   Negative\n",
       "2      just edit review book believe got right update...       1   Positive\n",
       "3      dont normally buy mystery novels just dont lik...       1   Positive\n",
       "4      isnt kind book normally read although try not ...       1   Positive\n",
       "...                                                  ...     ...        ...\n",
       "11995  read certain passages twice--typos wish built ...       0   Negative\n",
       "11996  not expected yet interesting book usually don8...       0   Negative\n",
       "11997  dragon knights world knights ride dragons not ...       1   Positive\n",
       "11998  since story short hard say much without giving...       1   Positive\n",
       "11999  1922 amazing collection info symbols cultures ...       1   Positive\n",
       "\n",
       "[12000 rows x 3 columns]"
      ]
     },
     "execution_count": 17,
     "metadata": {},
     "output_type": "execute_result"
    }
   ],
   "source": [
    "data_new"
   ]
  },
  {
   "cell_type": "code",
   "execution_count": 78,
   "id": "824d9792",
   "metadata": {},
   "outputs": [],
   "source": [
    "NUM_WORDS = 10000\n",
    "EMBEDDING_DIM = 16\n",
    "MAXLEN = 200\n",
    "PADDING = 'post'\n",
    "OOV_TOKEN = \"<OOV>\""
   ]
  },
  {
   "cell_type": "code",
   "execution_count": 83,
   "id": "3dd0262f",
   "metadata": {},
   "outputs": [],
   "source": [
    "sentiment = data_new.reviewText\n",
    "tokenizer = Tokenizer(num_words=NUM_WORDS, oov_token = OOV_TOKEN)\n",
    "tokenizer.fit_on_texts(sentiment)\n",
    "\n",
    "sequences = tokenizer.texts_to_sequences(sentiment)\n",
    "padded_sequence = pad_sequences(sequences, maxlen=MAXLEN)"
   ]
  },
  {
   "cell_type": "markdown",
   "id": "e71516f7",
   "metadata": {},
   "source": [
    "### Building the Model with Conv1D and LSTM"
   ]
  },
  {
   "cell_type": "code",
   "execution_count": 105,
   "id": "6780091b",
   "metadata": {},
   "outputs": [],
   "source": [
    "tf.random.set_seed(123)\n",
    "\n",
    "model = tf.keras.Sequential([\n",
    "        tf.keras.layers.Embedding(NUM_WORDS, EMBEDDING_DIM, input_length=MAXLEN),\n",
    "        #tf.keras.layers.GlobalAveragePooling1D(),\n",
    "        tf.keras.layers.Conv1D(32,5),\n",
    "        tf.keras.layers.LSTM(128),\n",
    "        tf.keras.layers.Dropout(0.4),\n",
    "        tf.keras.layers.Dense(5, activation='relu'),\n",
    "        tf.keras.layers.Dense(1, activation='sigmoid')\n",
    "        ])\n",
    "    \n",
    "model.compile(loss='binary_crossentropy',\n",
    "                  optimizer='adam',\n",
    "                  metrics=['accuracy']) \n"
   ]
  },
  {
   "cell_type": "code",
   "execution_count": 106,
   "id": "713f132b",
   "metadata": {},
   "outputs": [
    {
     "name": "stdout",
     "output_type": "stream",
     "text": [
      "Model: \"sequential_26\"\n",
      "_________________________________________________________________\n",
      " Layer (type)                Output Shape              Param #   \n",
      "=================================================================\n",
      " embedding_26 (Embedding)    (None, 200, 16)           160000    \n",
      "                                                                 \n",
      " conv1d_25 (Conv1D)          (None, 196, 32)           2592      \n",
      "                                                                 \n",
      " lstm_31 (LSTM)              (None, 128)               82432     \n",
      "                                                                 \n",
      " dropout_25 (Dropout)        (None, 128)               0         \n",
      "                                                                 \n",
      " dense_53 (Dense)            (None, 5)                 645       \n",
      "                                                                 \n",
      " dense_54 (Dense)            (None, 1)                 6         \n",
      "                                                                 \n",
      "=================================================================\n",
      "Total params: 245,675\n",
      "Trainable params: 245,675\n",
      "Non-trainable params: 0\n",
      "_________________________________________________________________\n",
      "None\n"
     ]
    }
   ],
   "source": [
    "print(model.summary())"
   ]
  },
  {
   "cell_type": "code",
   "execution_count": 107,
   "id": "884b1506",
   "metadata": {},
   "outputs": [
    {
     "name": "stdout",
     "output_type": "stream",
     "text": [
      "Epoch 1/10\n",
      "282/282 [==============================] - 90s 307ms/step - loss: 0.5185 - accuracy: 0.7339 - val_loss: 0.4248 - val_accuracy: 0.8073\n",
      "Epoch 2/10\n",
      "282/282 [==============================] - 85s 303ms/step - loss: 0.3209 - accuracy: 0.8686 - val_loss: 0.4074 - val_accuracy: 0.8177\n",
      "Epoch 3/10\n",
      "282/282 [==============================] - 87s 310ms/step - loss: 0.2279 - accuracy: 0.9147 - val_loss: 0.4723 - val_accuracy: 0.8033\n",
      "Epoch 4/10\n",
      "282/282 [==============================] - 86s 306ms/step - loss: 0.1581 - accuracy: 0.9419 - val_loss: 0.6141 - val_accuracy: 0.7953\n",
      "Epoch 5/10\n",
      "282/282 [==============================] - 86s 304ms/step - loss: 0.1149 - accuracy: 0.9588 - val_loss: 0.6625 - val_accuracy: 0.8007\n",
      "Epoch 6/10\n",
      "282/282 [==============================] - 86s 305ms/step - loss: 0.0818 - accuracy: 0.9708 - val_loss: 0.7796 - val_accuracy: 0.7910\n",
      "Epoch 7/10\n",
      "282/282 [==============================] - 87s 310ms/step - loss: 0.0579 - accuracy: 0.9797 - val_loss: 0.9060 - val_accuracy: 0.7960\n",
      "Epoch 8/10\n",
      "282/282 [==============================] - 102s 362ms/step - loss: 0.0424 - accuracy: 0.9870 - val_loss: 0.9161 - val_accuracy: 0.7937\n",
      "Epoch 9/10\n",
      "282/282 [==============================] - 91s 324ms/step - loss: 0.0327 - accuracy: 0.9912 - val_loss: 1.0190 - val_accuracy: 0.7863\n",
      "Epoch 10/10\n",
      "282/282 [==============================] - 86s 307ms/step - loss: 0.0321 - accuracy: 0.9904 - val_loss: 0.9428 - val_accuracy: 0.7770\n"
     ]
    },
    {
     "data": {
      "text/plain": [
       "<keras.callbacks.History at 0x213c02f9b80>"
      ]
     },
     "execution_count": 107,
     "metadata": {},
     "output_type": "execute_result"
    }
   ],
   "source": [
    "model.fit(padded_sequence, factorize_label[0],validation_split=0.25, epochs=10, batch_size=32)"
   ]
  },
  {
   "cell_type": "code",
   "execution_count": 46,
   "id": "4ed68e9c",
   "metadata": {},
   "outputs": [
    {
     "name": "stdout",
     "output_type": "stream",
     "text": [
      "Write your review: i'm not gonna use it\n",
      "Positive Statement\n"
     ]
    }
   ],
   "source": [
    "def predict_sentences(text):\n",
    "    tw = tokenizer.texts_to_sequences([text])\n",
    "    tw = pad_sequences(tw,maxlen=120)\n",
    "    prediction = int(model.predict(tw).round().item())\n",
    "    \n",
    "    return factorize_label[1][prediction]\n",
    "    \n",
    "test_input = input('Write your review: ')\n",
    "prediction = predict_sentences(test_input)\n",
    "if prediction == 1:\n",
    "    print(\"Congrats! It's a Positive Statement :D\")\n",
    "else:\n",
    "    print(\"Sorry, You've got Negative Statement :()\")"
   ]
  },
  {
   "cell_type": "code",
   "execution_count": null,
   "id": "67c677e7",
   "metadata": {},
   "outputs": [],
   "source": []
  }
 ],
 "metadata": {
  "kernelspec": {
   "display_name": "Python 3 (ipykernel)",
   "language": "python",
   "name": "python3"
  },
  "language_info": {
   "codemirror_mode": {
    "name": "ipython",
    "version": 3
   },
   "file_extension": ".py",
   "mimetype": "text/x-python",
   "name": "python",
   "nbconvert_exporter": "python",
   "pygments_lexer": "ipython3",
   "version": "3.9.7"
  }
 },
 "nbformat": 4,
 "nbformat_minor": 5
}
