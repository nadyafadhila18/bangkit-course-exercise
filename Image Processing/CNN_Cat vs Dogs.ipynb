{
  "cells": [
    {
      "cell_type": "markdown",
      "metadata": {
        "id": "AuW-xg_bTsaF"
      },
      "source": [
        "# Week 1: Using CNN's with the Cats vs Dogs Dataset\n",
        "\n",
        "Welcome to the 1st assignment of the course! This week, you will be using the famous `Cats vs Dogs` dataset to train a model that can classify images of dogs from images of cats. For this, you will create your own Convolutional Neural Network in Tensorflow and leverage Keras' image preprocessing utilities.\n",
        "\n",
        "You will also create some helper functions to move the images around the filesystem so if you are not familiar with the `os` module be sure to take a look a the [docs](https://docs.python.org/3/library/os.html).\n",
        "\n",
        "Let's get started!"
      ],
      "id": "AuW-xg_bTsaF"
    },
    {
      "cell_type": "code",
      "execution_count": 18,
      "metadata": {
        "id": "dn-6c02VmqiN"
      },
      "outputs": [],
      "source": [
        "import os\n",
        "import zipfile\n",
        "import random\n",
        "import shutil\n",
        "import tensorflow as tf\n",
        "from tensorflow.keras.preprocessing.image import ImageDataGenerator\n",
        "from shutil import copyfile\n",
        "import matplotlib.pyplot as plt"
      ],
      "id": "dn-6c02VmqiN"
    },
    {
      "cell_type": "markdown",
      "metadata": {
        "id": "bLTQd84RUs1j"
      },
      "source": [
        "Download the dataset from its original source by running the cell below. \n",
        "\n",
        "Note that the `zip` file that contains the images is unzipped under the `/tmp` directory."
      ],
      "id": "bLTQd84RUs1j"
    },
    {
      "cell_type": "code",
      "execution_count": 19,
      "metadata": {
        "id": "3sd9dQWa23aj",
        "lines_to_next_cell": 2,
        "colab": {
          "base_uri": "https://localhost:8080/"
        },
        "outputId": "3951001b-b63f-4a37-9966-3198712f8133"
      },
      "outputs": [
        {
          "output_type": "stream",
          "name": "stdout",
          "text": [
            "--2022-03-31 05:42:12--  https://download.microsoft.com/download/3/E/1/3E1C3F21-ECDB-4869-8368-6DEBA77B919F/kagglecatsanddogs_3367a.zip\n",
            "Resolving download.microsoft.com (download.microsoft.com)... 23.78.216.154, 2600:1417:8000:9ac::e59, 2600:1417:8000:980::e59, ...\n",
            "Connecting to download.microsoft.com (download.microsoft.com)|23.78.216.154|:443... connected.\n",
            "HTTP request sent, awaiting response... 200 OK\n",
            "Length: 824894548 (787M) [application/octet-stream]\n",
            "Saving to: ‘/tmp/cats-and-dogs.zip’\n",
            "\n",
            "/tmp/cats-and-dogs. 100%[===================>] 786.68M  54.3MB/s    in 12s     \n",
            "\n",
            "2022-03-31 05:42:24 (63.8 MB/s) - ‘/tmp/cats-and-dogs.zip’ saved [824894548/824894548]\n",
            "\n"
          ]
        }
      ],
      "source": [
        "# If the URL doesn't work, visit https://www.microsoft.com/en-us/download/confirmation.aspx?id=54765\n",
        "# And right click on the 'Download Manually' link to get a new URL to the dataset\n",
        "\n",
        "# Note: This is a very large dataset and will take some time to download\n",
        "\n",
        "!wget --no-check-certificate \\\n",
        "    \"https://download.microsoft.com/download/3/E/1/3E1C3F21-ECDB-4869-8368-6DEBA77B919F/kagglecatsanddogs_3367a.zip\" \\\n",
        "    -O \"/tmp/cats-and-dogs.zip\"\n",
        "\n",
        "local_zip = '/tmp/cats-and-dogs.zip'\n",
        "zip_ref   = zipfile.ZipFile(local_zip, 'r')\n",
        "zip_ref.extractall('/tmp')\n",
        "zip_ref.close()"
      ],
      "id": "3sd9dQWa23aj"
    },
    {
      "cell_type": "markdown",
      "metadata": {
        "id": "e_HsUV9WVJHL"
      },
      "source": [
        "Now the images are stored within the `/tmp/PetImages` directory. There is a subdirectory for each class, so one for dogs and one for cats."
      ],
      "id": "e_HsUV9WVJHL"
    },
    {
      "cell_type": "code",
      "execution_count": 20,
      "metadata": {
        "id": "DM851ZmN28J3",
        "colab": {
          "base_uri": "https://localhost:8080/"
        },
        "outputId": "2295730b-9444-460c-d4bb-285b97092f8c"
      },
      "outputs": [
        {
          "output_type": "stream",
          "name": "stdout",
          "text": [
            "There are 12501 images of dogs.\n",
            "There are 12501 images of cats.\n"
          ]
        }
      ],
      "source": [
        "source_path = '/tmp/PetImages'\n",
        "\n",
        "source_path_dogs = os.path.join(source_path, 'Dog')\n",
        "source_path_cats = os.path.join(source_path, 'Cat')\n",
        "\n",
        "\n",
        "# os.listdir returns a list containing all files under the given path\n",
        "print(f\"There are {len(os.listdir(source_path_dogs))} images of dogs.\")\n",
        "print(f\"There are {len(os.listdir(source_path_cats))} images of cats.\")"
      ],
      "id": "DM851ZmN28J3"
    },
    {
      "cell_type": "markdown",
      "metadata": {
        "id": "G7dI86rmRGmC"
      },
      "source": [
        "**Expected Output:**\n",
        "\n",
        "```\n",
        "There are 12501 images of dogs.\n",
        "There are 12501 images of cats.\n",
        "```"
      ],
      "id": "G7dI86rmRGmC"
    },
    {
      "cell_type": "markdown",
      "metadata": {
        "id": "iFbMliudNIjW"
      },
      "source": [
        "You will need a directory for cats-v-dogs, and subdirectories for training\n",
        "and testing. These in turn will need subdirectories for 'cats' and 'dogs'. To accomplish this, complete the `create_train_test_dirs` below:"
      ],
      "id": "iFbMliudNIjW"
    },
    {
      "cell_type": "code",
      "execution_count": 21,
      "metadata": {
        "cellView": "code",
        "id": "F-QkLjxpmyK2"
      },
      "outputs": [],
      "source": [
        "# Define root directory\n",
        "root_dir = '/tmp/cats-v-dogs'\n",
        "\n",
        "# Empty directory to prevent FileExistsError is the function is run several times\n",
        "if os.path.exists(root_dir):\n",
        "  shutil.rmtree(root_dir)\n",
        "\n",
        "# GRADED FUNCTION: create_train_test_dirs\n",
        "def create_train_test_dirs(root_path):\n",
        "  ### START CODE HERE\n",
        "  root_path = '/tmp/cats-v-dogs'\n",
        "  dirs = ['training','testing']\n",
        "  files = ['cats', 'dogs']\n",
        "\n",
        "  for items in dirs:\n",
        "    path = os.path.join(root_path, items)\n",
        "    os.makedirs(path)\n",
        "    for items2 in files:\n",
        "      path2 = os.path.join(path, items2)\n",
        "      os.makedirs(path2)\n",
        "\n",
        "  # HINT:\n",
        "  # Use os.makedirs to create your directories with intermediate subdirectories\n",
        "  # Don't hardcode the paths. Use os.path.join to append the new directories to the root_path parameter\n",
        "\n",
        "  \n",
        "  #print(path)\n",
        "  ### END CODE HERE\n",
        "\n",
        "  \n",
        "try:\n",
        "  create_train_test_dirs(root_path=root_dir)\n",
        "except FileExistsError:\n",
        "  print(\"You should not be seeing this since the upper directory is removed beforehand\")"
      ],
      "id": "F-QkLjxpmyK2"
    },
    {
      "cell_type": "code",
      "execution_count": 22,
      "metadata": {
        "id": "5dhtL344OK00",
        "colab": {
          "base_uri": "https://localhost:8080/"
        },
        "outputId": "12444656-0b67-47dd-8c35-3350751e067f"
      },
      "outputs": [
        {
          "output_type": "stream",
          "name": "stdout",
          "text": [
            "/tmp/cats-v-dogs/training\n",
            "/tmp/cats-v-dogs/testing\n",
            "/tmp/cats-v-dogs/training/dogs\n",
            "/tmp/cats-v-dogs/training/cats\n",
            "/tmp/cats-v-dogs/testing/dogs\n",
            "/tmp/cats-v-dogs/testing/cats\n"
          ]
        }
      ],
      "source": [
        "# Test your create_train_test_dirs function\n",
        "\n",
        "for rootdir, dirs, files in os.walk(root_dir):\n",
        "    for subdir in dirs:\n",
        "        print(os.path.join(rootdir, subdir))"
      ],
      "id": "5dhtL344OK00"
    },
    {
      "cell_type": "markdown",
      "metadata": {
        "id": "D7A0RK3IQsvg"
      },
      "source": [
        "**Expected Output (directory order might vary):**\n",
        "\n",
        "``` txt\n",
        "/tmp/cats-v-dogs/training\n",
        "/tmp/cats-v-dogs/testing\n",
        "/tmp/cats-v-dogs/training/cats\n",
        "/tmp/cats-v-dogs/training/dogs\n",
        "/tmp/cats-v-dogs/testing/cats\n",
        "/tmp/cats-v-dogs/testing/dogs\n",
        "\n",
        "```"
      ],
      "id": "D7A0RK3IQsvg"
    },
    {
      "cell_type": "markdown",
      "metadata": {
        "id": "R93T7HdE5txZ"
      },
      "source": [
        "Code the `split_data` function which takes in the following arguments:\n",
        "- SOURCE: directory containing the files\n",
        "\n",
        "- TRAINING: directory that a portion of the files will be copied to (will be used for training)\n",
        "- TESTING: directory that a portion of the files will be copied to (will be used for testing)\n",
        "- SPLIT SIZE: to determine the portion\n",
        "\n",
        "The files should be randomized, so that the training set is a random sample of the files, and the test set is made up of the remaining files.\n",
        "\n",
        "For example, if `SOURCE` is `PetImages/Cat`, and `SPLIT` SIZE is .9 then 90% of the images in `PetImages/Cat` will be copied to the `TRAINING` dir\n",
        "and 10% of the images will be copied to the `TESTING` dir.\n",
        "\n",
        "All images should be checked before the copy, so if they have a zero file length, they will be omitted from the copying process. If this is the case then your function should print out a message such as `\"filename is zero length, so ignoring.\"`. **You should perform this check before the split so that only non-zero images are considered when doing the actual split.**\n",
        "\n",
        "\n",
        "Hints:\n",
        "\n",
        "- `os.listdir(DIRECTORY)` returns a list with the contents of that directory.\n",
        "\n",
        "- `os.path.getsize(PATH)` returns the size of the file\n",
        "\n",
        "- `copyfile(source, destination)` copies a file from source to destination\n",
        "\n",
        "- `random.sample(list, len(list))` shuffles a list"
      ],
      "id": "R93T7HdE5txZ"
    },
    {
      "cell_type": "code",
      "execution_count": 23,
      "metadata": {
        "cellView": "code",
        "id": "zvSODo0f9LaU"
      },
      "outputs": [],
      "source": [
        "# GRADED FUNCTION: split_data\n",
        "def split_data(SOURCE, TRAINING, TESTING, SPLIT_SIZE):\n",
        "\n",
        "  ### START CODE HERE\n",
        "  files = []\n",
        "  for file_name in os.listdir(SOURCE):\n",
        "    file = SOURCE + file_name\n",
        "    if os.path.getsize(file)>0:\n",
        "      files.append(file_name)\n",
        "    else:\n",
        "      print(file_name+\" is zero length, so ignoring.\")\n",
        "\n",
        "  training_length = int(len(files)*SPLIT_SIZE)\n",
        "  testing_length = int(len(files)-training_length)\n",
        "  random_set = random.sample(files, len(files))\n",
        "  training_set = random_set[0:training_length]\n",
        "  testing_set = random_set[-testing_length:]\n",
        "\n",
        "  for filename in training_set:\n",
        "    file2 = SOURCE+filename\n",
        "    dest = TRAINING+filename\n",
        "    copyfile(file2, dest)\n",
        "\n",
        "  for filename in testing_set:\n",
        "    file2 = SOURCE+filename\n",
        "    dest = TESTING+filename\n",
        "    copyfile(file2, dest)\n",
        "\n",
        "  ### END CODE HERE\n"
      ],
      "id": "zvSODo0f9LaU"
    },
    {
      "cell_type": "code",
      "execution_count": 24,
      "metadata": {
        "id": "FlIdoUeX9S-9",
        "colab": {
          "base_uri": "https://localhost:8080/"
        },
        "outputId": "a384fe98-1535-484e-a0ae-0f0630c4f77f"
      },
      "outputs": [
        {
          "output_type": "stream",
          "name": "stdout",
          "text": [
            "666.jpg is zero length, so ignoring.\n",
            "11702.jpg is zero length, so ignoring.\n",
            "\n",
            "\n",
            "There are 11250 images of cats for training\n",
            "There are 11250 images of dogs for training\n",
            "There are 1250 images of cats for testing\n",
            "There are 1250 images of dogs for testing\n"
          ]
        }
      ],
      "source": [
        "# Test your split_data function\n",
        "\n",
        "# Define paths\n",
        "CAT_SOURCE_DIR = \"/tmp/PetImages/Cat/\"\n",
        "DOG_SOURCE_DIR = \"/tmp/PetImages/Dog/\"\n",
        "\n",
        "TRAINING_DIR = \"/tmp/cats-v-dogs/training/\"\n",
        "TESTING_DIR = \"/tmp/cats-v-dogs/testing/\"\n",
        "\n",
        "TRAINING_CATS_DIR = os.path.join(TRAINING_DIR, \"cats/\")\n",
        "TESTING_CATS_DIR = os.path.join(TESTING_DIR, \"cats/\")\n",
        "\n",
        "\n",
        "TRAINING_DOGS_DIR = os.path.join(TRAINING_DIR, \"dogs/\")\n",
        "TESTING_DOGS_DIR = os.path.join(TESTING_DIR, \"dogs/\")\n",
        "\n",
        "# Empty directories in case you run this cell multiple times\n",
        "if len(os.listdir(TRAINING_CATS_DIR)) > 0:\n",
        "  for file in os.scandir(TRAINING_CATS_DIR):\n",
        "    os.remove(file.path)\n",
        "if len(os.listdir(TRAINING_DOGS_DIR)) > 0:\n",
        "  for file in os.scandir(TRAINING_DOGS_DIR):\n",
        "    os.remove(file.path)\n",
        "if len(os.listdir(TESTING_CATS_DIR)) > 0:\n",
        "  for file in os.scandir(TESTING_CATS_DIR):\n",
        "    os.remove(file.path)\n",
        "if len(os.listdir(TESTING_DOGS_DIR)) > 0:\n",
        "  for file in os.scandir(TESTING_DOGS_DIR):\n",
        "    os.remove(file.path)\n",
        "\n",
        "# Define proportion of images used for training\n",
        "split_size = .9\n",
        "\n",
        "# Run the function\n",
        "# NOTE: Messages about zero length images should be printed out\n",
        "split_data(CAT_SOURCE_DIR, TRAINING_CATS_DIR, TESTING_CATS_DIR, split_size)\n",
        "split_data(DOG_SOURCE_DIR, TRAINING_DOGS_DIR, TESTING_DOGS_DIR, split_size)\n",
        "\n",
        "# Check that the number of images matches the expected output\n",
        "print(f\"\\n\\nThere are {len(os.listdir(TRAINING_CATS_DIR))} images of cats for training\")\n",
        "print(f\"There are {len(os.listdir(TRAINING_DOGS_DIR))} images of dogs for training\")\n",
        "print(f\"There are {len(os.listdir(TESTING_CATS_DIR))} images of cats for testing\")\n",
        "print(f\"There are {len(os.listdir(TESTING_DOGS_DIR))} images of dogs for testing\")"
      ],
      "id": "FlIdoUeX9S-9"
    },
    {
      "cell_type": "markdown",
      "metadata": {
        "id": "hvskJNOFVSaz"
      },
      "source": [
        "**Expected Output:**\n",
        "\n",
        "```\n",
        "666.jpg is zero length, so ignoring.\n",
        "11702.jpg is zero length, so ignoring.\n",
        "```\n",
        "\n",
        "```\n",
        "There are 11250 images of cats for training\n",
        "There are 11250 images of dogs for training\n",
        "There are 1250 images of cats for testing\n",
        "There are 1250 images of dogs for testing\n",
        "```"
      ],
      "id": "hvskJNOFVSaz"
    },
    {
      "cell_type": "markdown",
      "metadata": {
        "id": "Zil4QmOD_mXF"
      },
      "source": [
        "Now that you have successfully organized the data in a way that can be easily fed to Keras' `ImageDataGenerator`, it is time for you to code the generators that will yield batches of images, both for training and validation. For this, complete the `train_val_generators` function below.\n",
        "\n",
        "Something important to note is that the images in this dataset come in a variety of resolutions. Luckily, the `flow_from_directory` method allows you to standarize this by defining a tuple called `target_size` that will be used to convert each image to this target resolution. **For this exercise, use a `target_size` of (150, 150)**.\n",
        "\n",
        "**Note:** So far, you have seen the term `testing` being used a lot for referring to a subset of images within the dataset. In this exercise, all of the `testing` data is actually being used as `validation` data. This is not very important within the context of the task at hand but it is worth mentioning to avoid confusion."
      ],
      "id": "Zil4QmOD_mXF"
    },
    {
      "cell_type": "code",
      "execution_count": 26,
      "metadata": {
        "cellView": "code",
        "id": "fQrZfVgz4j2g"
      },
      "outputs": [],
      "source": [
        "# GRADED FUNCTION: train_val_generators\n",
        "def train_val_generators(TRAINING_DIR, VALIDATION_DIR):\n",
        "  ### START CODE HERE\n",
        "\n",
        "  TRAINING_DIR = '/tmp/cats-v-dogs/training/'\n",
        "  VALIDATION_DIR = '/tmp/cats-v-dogs/testing/'\n",
        "  cat_train_dir = os.path.join(TRAINING_DIR,'cats')\n",
        "  dog_train_dir = os.path.join(TRAINING_DIR,'dogs')\n",
        "  validation_cats_dir = os.path.join(VALIDATION_DIR, 'cats')\n",
        "  validation_dogs_dir = os.path.join(VALIDATION_DIR, 'dogs')\n",
        "  # Instantiate the ImageDataGenerator class (don't forget to set the rescale argument)\n",
        "  train_datagen = ImageDataGenerator(rescale = 1./255)\n",
        "\n",
        "  # Pass in the appropiate arguments to the flow_from_directory method\n",
        "  train_generator = train_datagen.flow_from_directory(TRAINING_DIR,\n",
        "                                                      batch_size=50,\n",
        "                                                      class_mode='binary',\n",
        "                                                      target_size=(150, 150))\n",
        "\n",
        "  # Instantiate the ImageDataGenerator class (don't forget to set the rescale argument)\n",
        "  validation_datagen = ImageDataGenerator(rescale = 1./255)\n",
        "\n",
        "  # Pass in the appropiate arguments to the flow_from_directory method\n",
        "  validation_generator = validation_datagen.flow_from_directory(VALIDATION_DIR,\n",
        "                                                                batch_size=50,\n",
        "                                                                class_mode='binary',\n",
        "                                                                target_size=(150, 150))\n",
        "  ### END CODE HERE\n",
        "  return train_generator, validation_generator\n"
      ],
      "id": "fQrZfVgz4j2g"
    },
    {
      "cell_type": "code",
      "execution_count": 27,
      "metadata": {
        "id": "qM7FxrjGiobD",
        "colab": {
          "base_uri": "https://localhost:8080/"
        },
        "outputId": "6bc7b881-e9d4-4c9a-c6c1-43a32c95bce1"
      },
      "outputs": [
        {
          "output_type": "stream",
          "name": "stdout",
          "text": [
            "Found 22498 images belonging to 2 classes.\n",
            "Found 2500 images belonging to 2 classes.\n"
          ]
        }
      ],
      "source": [
        "# Test your generators\n",
        "train_generator, validation_generator = train_val_generators(TRAINING_DIR, TESTING_DIR)"
      ],
      "id": "qM7FxrjGiobD"
    },
    {
      "cell_type": "markdown",
      "metadata": {
        "id": "tiPNmSfZjHwJ"
      },
      "source": [
        "**Expected Output:**\n",
        "\n",
        "```\n",
        "Found 22498 images belonging to 2 classes.\n",
        "Found 2500 images belonging to 2 classes.\n",
        "```\n"
      ],
      "id": "tiPNmSfZjHwJ"
    },
    {
      "cell_type": "markdown",
      "metadata": {
        "id": "TI3oEmyQCZoO"
      },
      "source": [
        "One last step before training is to define the architecture of the model that will be trained.\n",
        "\n",
        "Complete the `create_model` function below which should return a Keras' `Sequential` model.\n",
        "\n",
        "Aside from defining the architecture of the model, you should also compile it so make sure to use a `loss` function that is compatible with the `class_mode` you defined in the previous exercise, which should also be compatible with the output of your network. You can tell if they aren't compatible if you get an error during training.\n",
        "\n",
        "**Note that you should use at least 3 convolution layers to achieve the desired performance.**"
      ],
      "id": "TI3oEmyQCZoO"
    },
    {
      "cell_type": "code",
      "execution_count": 28,
      "metadata": {
        "cellView": "code",
        "id": "oDPK8tUB_O9e",
        "lines_to_next_cell": 2
      },
      "outputs": [],
      "source": [
        "# GRADED FUNCTION: create_model\n",
        "def create_model():\n",
        "  # DEFINE A KERAS MODEL TO CLASSIFY CATS V DOGS\n",
        "  # USE AT LEAST 3 CONVOLUTION LAYERS\n",
        "\n",
        "  ### START CODE HERE\n",
        "\n",
        "  model = tf.keras.models.Sequential([ \n",
        "                                      tf.keras.layers.Conv2D(16, (3,3), activation='relu', input_shape=(150,150, 3)),\n",
        "                                      tf.keras.layers.MaxPooling2D(2,2),\n",
        "                                      tf.keras.layers.Conv2D(32, (3,3), activation='relu'),\n",
        "                                      tf.keras.layers.MaxPooling2D(2,2), \n",
        "                                      tf.keras.layers.Conv2D(32, (3,3), activation='relu'), \n",
        "                                      tf.keras.layers.MaxPooling2D(2,2),\n",
        "                                      tf.keras.layers.Conv2D(64, (3,3), activation='relu'), \n",
        "                                      tf.keras.layers.MaxPooling2D(2,2),\n",
        "                                      # Flatten the results to feed into a DNN\n",
        "                                      tf.keras.layers.Flatten(), \n",
        "                                      # 512 neuron hidden layer\n",
        "                                      tf.keras.layers.Dense(512, activation='relu'), \n",
        "                                      # Only 1 output neuron. It will contain a value from 0-1 where 0 for 1 class ('cats') and 1 for the other ('dogs')\n",
        "                                      tf.keras.layers.Dense(1, activation='sigmoid')])\n",
        "  \n",
        "\n",
        "  from tensorflow.keras.optimizers import RMSprop\n",
        "\n",
        "  model.compile(optimizer=RMSprop(learning_rate=0.001),\n",
        "              loss='binary_crossentropy',\n",
        "              metrics = ['accuracy'])\n",
        "    \n",
        "  ### END CODE HERE\n",
        "  return model\n",
        "\n"
      ],
      "id": "oDPK8tUB_O9e"
    },
    {
      "cell_type": "markdown",
      "metadata": {
        "id": "SMFNJZmTCZv6"
      },
      "source": [
        "Now it is time to train your model!\n",
        "\n",
        "**Note:** You can ignore the `UserWarning: Possibly corrupt EXIF data.` warnings."
      ],
      "id": "SMFNJZmTCZv6"
    },
    {
      "cell_type": "code",
      "execution_count": 29,
      "metadata": {
        "id": "5qE1G6JB4fMn",
        "colab": {
          "base_uri": "https://localhost:8080/"
        },
        "outputId": "4d2ba990-bfc5-4615-d1cc-77a747a318c8"
      },
      "outputs": [
        {
          "output_type": "stream",
          "name": "stdout",
          "text": [
            "Epoch 1/50\n",
            "100/100 - 27s - loss: 0.6818 - accuracy: 0.5826 - val_loss: 0.6284 - val_accuracy: 0.6456 - 27s/epoch - 268ms/step\n",
            "Epoch 2/50\n"
          ]
        },
        {
          "output_type": "stream",
          "name": "stderr",
          "text": [
            "/usr/local/lib/python3.7/dist-packages/PIL/TiffImagePlugin.py:770: UserWarning: Possibly corrupt EXIF data.  Expecting to read 32 bytes but only got 0. Skipping tag 270\n",
            "  \" Skipping tag %s\" % (size, len(data), tag)\n",
            "/usr/local/lib/python3.7/dist-packages/PIL/TiffImagePlugin.py:770: UserWarning: Possibly corrupt EXIF data.  Expecting to read 5 bytes but only got 0. Skipping tag 271\n",
            "  \" Skipping tag %s\" % (size, len(data), tag)\n",
            "/usr/local/lib/python3.7/dist-packages/PIL/TiffImagePlugin.py:770: UserWarning: Possibly corrupt EXIF data.  Expecting to read 8 bytes but only got 0. Skipping tag 272\n",
            "  \" Skipping tag %s\" % (size, len(data), tag)\n",
            "/usr/local/lib/python3.7/dist-packages/PIL/TiffImagePlugin.py:770: UserWarning: Possibly corrupt EXIF data.  Expecting to read 8 bytes but only got 0. Skipping tag 282\n",
            "  \" Skipping tag %s\" % (size, len(data), tag)\n",
            "/usr/local/lib/python3.7/dist-packages/PIL/TiffImagePlugin.py:770: UserWarning: Possibly corrupt EXIF data.  Expecting to read 8 bytes but only got 0. Skipping tag 283\n",
            "  \" Skipping tag %s\" % (size, len(data), tag)\n",
            "/usr/local/lib/python3.7/dist-packages/PIL/TiffImagePlugin.py:770: UserWarning: Possibly corrupt EXIF data.  Expecting to read 20 bytes but only got 0. Skipping tag 306\n",
            "  \" Skipping tag %s\" % (size, len(data), tag)\n",
            "/usr/local/lib/python3.7/dist-packages/PIL/TiffImagePlugin.py:770: UserWarning: Possibly corrupt EXIF data.  Expecting to read 48 bytes but only got 0. Skipping tag 532\n",
            "  \" Skipping tag %s\" % (size, len(data), tag)\n",
            "/usr/local/lib/python3.7/dist-packages/PIL/TiffImagePlugin.py:788: UserWarning: Corrupt EXIF data.  Expecting to read 2 bytes but only got 0. \n",
            "  warnings.warn(str(msg))\n"
          ]
        },
        {
          "output_type": "stream",
          "name": "stdout",
          "text": [
            "100/100 - 25s - loss: 0.6163 - accuracy: 0.6526 - val_loss: 0.5678 - val_accuracy: 0.6964 - 25s/epoch - 252ms/step\n",
            "Epoch 3/50\n",
            "100/100 - 25s - loss: 0.5634 - accuracy: 0.7134 - val_loss: 0.5445 - val_accuracy: 0.7228 - 25s/epoch - 252ms/step\n",
            "Epoch 4/50\n",
            "100/100 - 25s - loss: 0.5299 - accuracy: 0.7361 - val_loss: 0.5287 - val_accuracy: 0.7332 - 25s/epoch - 255ms/step\n",
            "Epoch 5/50\n",
            "100/100 - 25s - loss: 0.5047 - accuracy: 0.7490 - val_loss: 0.4908 - val_accuracy: 0.7704 - 25s/epoch - 254ms/step\n",
            "Epoch 6/50\n",
            "100/100 - 25s - loss: 0.4974 - accuracy: 0.7620 - val_loss: 0.4776 - val_accuracy: 0.7732 - 25s/epoch - 250ms/step\n",
            "Epoch 7/50\n",
            "100/100 - 25s - loss: 0.4773 - accuracy: 0.7667 - val_loss: 0.4322 - val_accuracy: 0.7972 - 25s/epoch - 250ms/step\n",
            "Epoch 8/50\n",
            "100/100 - 25s - loss: 0.4502 - accuracy: 0.7896 - val_loss: 0.4614 - val_accuracy: 0.7972 - 25s/epoch - 254ms/step\n",
            "Epoch 9/50\n",
            "100/100 - 25s - loss: 0.4480 - accuracy: 0.7976 - val_loss: 0.4101 - val_accuracy: 0.8184 - 25s/epoch - 254ms/step\n",
            "Epoch 10/50\n",
            "100/100 - 25s - loss: 0.4269 - accuracy: 0.8047 - val_loss: 0.4505 - val_accuracy: 0.7796 - 25s/epoch - 254ms/step\n",
            "Epoch 11/50\n",
            "100/100 - 25s - loss: 0.4047 - accuracy: 0.8125 - val_loss: 0.4156 - val_accuracy: 0.8128 - 25s/epoch - 253ms/step\n",
            "Epoch 12/50\n",
            "100/100 - 26s - loss: 0.4062 - accuracy: 0.8174 - val_loss: 0.3997 - val_accuracy: 0.8280 - 26s/epoch - 255ms/step\n",
            "Epoch 13/50\n",
            "100/100 - 25s - loss: 0.3742 - accuracy: 0.8272 - val_loss: 0.3754 - val_accuracy: 0.8320 - 25s/epoch - 255ms/step\n",
            "Epoch 14/50\n",
            "100/100 - 25s - loss: 0.3662 - accuracy: 0.8371 - val_loss: 0.3872 - val_accuracy: 0.8296 - 25s/epoch - 253ms/step\n",
            "Epoch 15/50\n",
            "100/100 - 25s - loss: 0.3608 - accuracy: 0.8362 - val_loss: 0.3792 - val_accuracy: 0.8264 - 25s/epoch - 253ms/step\n",
            "Epoch 16/50\n",
            "100/100 - 25s - loss: 0.3517 - accuracy: 0.8428 - val_loss: 0.3696 - val_accuracy: 0.8404 - 25s/epoch - 253ms/step\n",
            "Epoch 17/50\n",
            "100/100 - 25s - loss: 0.3333 - accuracy: 0.8560 - val_loss: 0.3648 - val_accuracy: 0.8344 - 25s/epoch - 253ms/step\n",
            "Epoch 18/50\n",
            "100/100 - 25s - loss: 0.3065 - accuracy: 0.8710 - val_loss: 0.3639 - val_accuracy: 0.8416 - 25s/epoch - 254ms/step\n",
            "Epoch 19/50\n",
            "100/100 - 25s - loss: 0.3186 - accuracy: 0.8613 - val_loss: 0.3920 - val_accuracy: 0.8432 - 25s/epoch - 252ms/step\n",
            "Epoch 20/50\n",
            "100/100 - 25s - loss: 0.2973 - accuracy: 0.8714 - val_loss: 0.3325 - val_accuracy: 0.8552 - 25s/epoch - 253ms/step\n",
            "Epoch 21/50\n",
            "100/100 - 25s - loss: 0.2881 - accuracy: 0.8744 - val_loss: 0.3301 - val_accuracy: 0.8632 - 25s/epoch - 255ms/step\n",
            "Epoch 22/50\n",
            "100/100 - 26s - loss: 0.2716 - accuracy: 0.8860 - val_loss: 0.3333 - val_accuracy: 0.8608 - 26s/epoch - 257ms/step\n",
            "Epoch 23/50\n",
            "100/100 - 25s - loss: 0.2632 - accuracy: 0.8892 - val_loss: 0.3488 - val_accuracy: 0.8392 - 25s/epoch - 253ms/step\n",
            "Epoch 24/50\n",
            "100/100 - 25s - loss: 0.2568 - accuracy: 0.8940 - val_loss: 0.3156 - val_accuracy: 0.8684 - 25s/epoch - 253ms/step\n",
            "Epoch 25/50\n",
            "100/100 - 25s - loss: 0.2411 - accuracy: 0.8964 - val_loss: 0.3848 - val_accuracy: 0.8512 - 25s/epoch - 252ms/step\n",
            "Epoch 26/50\n",
            "100/100 - 25s - loss: 0.2317 - accuracy: 0.9028 - val_loss: 0.3458 - val_accuracy: 0.8512 - 25s/epoch - 250ms/step\n",
            "Epoch 27/50\n",
            "100/100 - 25s - loss: 0.2292 - accuracy: 0.9078 - val_loss: 0.4101 - val_accuracy: 0.8480 - 25s/epoch - 248ms/step\n",
            "Epoch 28/50\n",
            "100/100 - 25s - loss: 0.2206 - accuracy: 0.9088 - val_loss: 0.4147 - val_accuracy: 0.8484 - 25s/epoch - 253ms/step\n",
            "Epoch 29/50\n",
            "100/100 - 25s - loss: 0.2065 - accuracy: 0.9160 - val_loss: 0.3272 - val_accuracy: 0.8624 - 25s/epoch - 255ms/step\n",
            "Epoch 30/50\n",
            "100/100 - 25s - loss: 0.1885 - accuracy: 0.9218 - val_loss: 0.3484 - val_accuracy: 0.8512 - 25s/epoch - 254ms/step\n",
            "Epoch 31/50\n",
            "100/100 - 25s - loss: 0.1932 - accuracy: 0.9246 - val_loss: 0.3260 - val_accuracy: 0.8596 - 25s/epoch - 255ms/step\n",
            "Epoch 32/50\n",
            "100/100 - 26s - loss: 0.1912 - accuracy: 0.9254 - val_loss: 0.3446 - val_accuracy: 0.8604 - 26s/epoch - 255ms/step\n",
            "Epoch 33/50\n",
            "100/100 - 25s - loss: 0.1813 - accuracy: 0.9296 - val_loss: 0.3621 - val_accuracy: 0.8516 - 25s/epoch - 254ms/step\n",
            "Epoch 34/50\n",
            "100/100 - 25s - loss: 0.1807 - accuracy: 0.9278 - val_loss: 0.3243 - val_accuracy: 0.8728 - 25s/epoch - 251ms/step\n",
            "Epoch 35/50\n",
            "100/100 - 25s - loss: 0.1529 - accuracy: 0.9408 - val_loss: 0.3687 - val_accuracy: 0.8664 - 25s/epoch - 250ms/step\n",
            "Epoch 36/50\n",
            "100/100 - 25s - loss: 0.1686 - accuracy: 0.9384 - val_loss: 0.3638 - val_accuracy: 0.8676 - 25s/epoch - 251ms/step\n",
            "Epoch 37/50\n",
            "100/100 - 25s - loss: 0.1591 - accuracy: 0.9400 - val_loss: 0.3649 - val_accuracy: 0.8620 - 25s/epoch - 251ms/step\n",
            "Epoch 38/50\n",
            "100/100 - 25s - loss: 0.1390 - accuracy: 0.9432 - val_loss: 0.3714 - val_accuracy: 0.8540 - 25s/epoch - 251ms/step\n",
            "Epoch 39/50\n",
            "100/100 - 25s - loss: 0.1478 - accuracy: 0.9446 - val_loss: 0.4803 - val_accuracy: 0.8708 - 25s/epoch - 249ms/step\n",
            "Epoch 40/50\n",
            "100/100 - 25s - loss: 0.1434 - accuracy: 0.9470 - val_loss: 0.3595 - val_accuracy: 0.8760 - 25s/epoch - 248ms/step\n",
            "Epoch 41/50\n",
            "100/100 - 25s - loss: 0.1423 - accuracy: 0.9492 - val_loss: 0.4158 - val_accuracy: 0.8716 - 25s/epoch - 249ms/step\n",
            "Epoch 42/50\n",
            "100/100 - 25s - loss: 0.1239 - accuracy: 0.9516 - val_loss: 0.3969 - val_accuracy: 0.8692 - 25s/epoch - 247ms/step\n",
            "Epoch 43/50\n",
            "100/100 - 25s - loss: 0.1242 - accuracy: 0.9522 - val_loss: 0.4086 - val_accuracy: 0.8712 - 25s/epoch - 247ms/step\n",
            "Epoch 44/50\n",
            "100/100 - 25s - loss: 0.1180 - accuracy: 0.9586 - val_loss: 0.4218 - val_accuracy: 0.8724 - 25s/epoch - 251ms/step\n",
            "Epoch 45/50\n",
            "100/100 - 25s - loss: 0.1042 - accuracy: 0.9608 - val_loss: 0.3999 - val_accuracy: 0.8728 - 25s/epoch - 249ms/step\n",
            "Epoch 46/50\n",
            "100/100 - 25s - loss: 0.1081 - accuracy: 0.9590 - val_loss: 0.4977 - val_accuracy: 0.8656 - 25s/epoch - 251ms/step\n",
            "Epoch 47/50\n",
            "100/100 - 25s - loss: 0.0997 - accuracy: 0.9642 - val_loss: 0.4425 - val_accuracy: 0.8656 - 25s/epoch - 247ms/step\n",
            "Epoch 48/50\n",
            "100/100 - 25s - loss: 0.1077 - accuracy: 0.9604 - val_loss: 0.5319 - val_accuracy: 0.8576 - 25s/epoch - 247ms/step\n",
            "Epoch 49/50\n",
            "100/100 - 25s - loss: 0.0956 - accuracy: 0.9644 - val_loss: 0.5000 - val_accuracy: 0.8572 - 25s/epoch - 248ms/step\n",
            "Epoch 50/50\n",
            "100/100 - 26s - loss: 0.0967 - accuracy: 0.9646 - val_loss: 0.4969 - val_accuracy: 0.8716 - 26s/epoch - 256ms/step\n"
          ]
        }
      ],
      "source": [
        "# Get the untrained model\n",
        "model = create_model()\n",
        "\n",
        "# Train the model\n",
        "# Note that this may take some time.\n",
        "history = model.fit(\n",
        "            train_generator,\n",
        "            steps_per_epoch=100,\n",
        "            epochs=50,\n",
        "            validation_data=validation_generator,\n",
        "            verbose=2\n",
        "            )"
      ],
      "id": "5qE1G6JB4fMn"
    },
    {
      "cell_type": "markdown",
      "metadata": {
        "id": "VGsaDMc-GMd4"
      },
      "source": [
        "Once training has finished, you can run the following cell to check the training and validation accuracy achieved at the end of each epoch.\n",
        "\n",
        "**To pass this assignment, your model should achieve a training accuracy of at least 95% and a validation accuracy of at least 80%**. If your model didn't achieve these thresholds, try training again with a different model architecture and remember to use at least 3 convolutional layers."
      ],
      "id": "VGsaDMc-GMd4"
    },
    {
      "cell_type": "code",
      "execution_count": 30,
      "metadata": {
        "id": "MWZrJN4-65RC",
        "colab": {
          "base_uri": "https://localhost:8080/",
          "height": 546
        },
        "outputId": "389d8f4f-cad3-4388-c596-3bfb47948d60"
      },
      "outputs": [
        {
          "output_type": "display_data",
          "data": {
            "text/plain": [
              "<Figure size 432x288 with 1 Axes>"
            ],
            "image/png": "[encoded data removed]"
          },
          "metadata": {
            "needs_background": "light"
          }
        },
        {
          "output_type": "stream",
          "name": "stdout",
          "text": [
            "\n"
          ]
        },
        {
          "output_type": "display_data",
          "data": {
            "text/plain": [
              "<Figure size 432x288 with 1 Axes>"
            ],
            "image/png": "[encoded data removed]"
          },
          "metadata": {
            "needs_background": "light"
          }
        }
      ],
      "source": [
        "#-----------------------------------------------------------\n",
        "# Retrieve a list of list results on training and test data\n",
        "# sets for each training epoch\n",
        "#-----------------------------------------------------------\n",
        "acc=history.history['accuracy']\n",
        "val_acc=history.history['val_accuracy']\n",
        "loss=history.history['loss']\n",
        "val_loss=history.history['val_loss']\n",
        "\n",
        "epochs=range(len(acc)) # Get number of epochs\n",
        "\n",
        "#------------------------------------------------\n",
        "# Plot training and validation accuracy per epoch\n",
        "#------------------------------------------------\n",
        "plt.plot(epochs, acc, 'r', \"Training Accuracy\")\n",
        "plt.plot(epochs, val_acc, 'b', \"Validation Accuracy\")\n",
        "plt.title('Training and validation accuracy')\n",
        "plt.show()\n",
        "print(\"\")\n",
        "\n",
        "#------------------------------------------------\n",
        "# Plot training and validation loss per epoch\n",
        "#------------------------------------------------\n",
        "plt.plot(epochs, loss, 'r', \"Training Loss\")\n",
        "plt.plot(epochs, val_loss, 'b', \"Validation Loss\")\n",
        "plt.show()"
      ],
      "id": "MWZrJN4-65RC"
    },
    {
      "cell_type": "markdown",
      "metadata": {
        "id": "NYIaqsN2pav6"
      },
      "source": [
        "You will probably encounter that the model is overfitting, which means that it is doing a great job at classifying the images in the training set but struggles with new data. This is perfectly fine and you will learn how to mitigate this issue in the upcoming week.\n",
        "\n",
        "Before downloading this notebook and closing the assignment, be sure to also download the `history.pkl` file which contains the information of the training history of your model. You can download this file by running the cell below:"
      ],
      "id": "NYIaqsN2pav6"
    },
    {
      "cell_type": "code",
      "execution_count": 31,
      "metadata": {
        "id": "yWcrc9nZTsHj",
        "colab": {
          "base_uri": "https://localhost:8080/",
          "height": 17
        },
        "outputId": "706bef1c-e45e-471d-b766-16350b94d4aa"
      },
      "outputs": [
        {
          "output_type": "display_data",
          "data": {
            "text/plain": [
              "<IPython.core.display.Javascript object>"
            ],
            "application/javascript": [
              "\n",
              "    async function download(id, filename, size) {\n",
              "      if (!google.colab.kernel.accessAllowed) {\n",
              "        return;\n",
              "      }\n",
              "      const div = document.createElement('div');\n",
              "      const label = document.createElement('label');\n",
              "      label.textContent = `Downloading \"${filename}\": `;\n",
              "      div.appendChild(label);\n",
              "      const progress = document.createElement('progress');\n",
              "      progress.max = size;\n",
              "      div.appendChild(progress);\n",
              "      document.body.appendChild(div);\n",
              "\n",
              "      const buffers = [];\n",
              "      let downloaded = 0;\n",
              "\n",
              "      const channel = await google.colab.kernel.comms.open(id);\n",
              "      // Send a message to notify the kernel that we're ready.\n",
              "      channel.send({})\n",
              "\n",
              "      for await (const message of channel.messages) {\n",
              "        // Send a message to notify the kernel that we're ready.\n",
              "        channel.send({})\n",
              "        if (message.buffers) {\n",
              "          for (const buffer of message.buffers) {\n",
              "            buffers.push(buffer);\n",
              "            downloaded += buffer.byteLength;\n",
              "            progress.value = downloaded;\n",
              "          }\n",
              "        }\n",
              "      }\n",
              "      const blob = new Blob(buffers, {type: 'application/binary'});\n",
              "      const a = document.createElement('a');\n",
              "      a.href = window.URL.createObjectURL(blob);\n",
              "      a.download = filename;\n",
              "      div.appendChild(a);\n",
              "      a.click();\n",
              "      div.remove();\n",
              "    }\n",
              "  "
            ]
          },
          "metadata": {}
        },
        {
          "output_type": "display_data",
          "data": {
            "text/plain": [
              "<IPython.core.display.Javascript object>"
            ],
            "application/javascript": [
              "download(\"download_d10fafa0-bfde-4bb2-9f7a-7250ff8b5f80\", \"history.pkl\", 1888)"
            ]
          },
          "metadata": {}
        }
      ],
      "source": [
        "def download_history():\n",
        "  import pickle\n",
        "  from google.colab import files\n",
        "\n",
        "  with open('history.pkl', 'wb') as f:\n",
        "    pickle.dump(history.history, f)\n",
        "\n",
        "  files.download('history.pkl')\n",
        "\n",
        "download_history()"
      ],
      "id": "yWcrc9nZTsHj"
    },
    {
      "cell_type": "markdown",
      "metadata": {
        "id": "hlyMZ5OFGLk2"
      },
      "source": [
        "You will also need to submit this notebook for grading. To download it, click on the `File` tab in the upper left corner of the screen then click on `Download` -> `Download .ipynb`. You can name it anything you want as long as it is a valid `.ipynb` (jupyter notebook) file."
      ],
      "id": "hlyMZ5OFGLk2"
    },
    {
      "cell_type": "markdown",
      "metadata": {
        "id": "joAaZSWWpbOI"
      },
      "source": [
        "**Congratulations on finishing this week's assignment!**\n",
        "\n",
        "You have successfully implemented a convolutional neural network that classifies images of cats and dogs, along with the helper functions needed to pre-process the images!\n",
        "\n",
        "**Keep it up!**"
      ],
      "id": "joAaZSWWpbOI"
    }
  ],
  "metadata": {
    "accelerator": "GPU",
    "kernelspec": {
      "display_name": "Python 3",
      "language": "python",
      "name": "python3"
    },
    "language_info": {
      "codemirror_mode": {
        "name": "ipython",
        "version": 3
      },
      "file_extension": ".py",
      "mimetype": "text/x-python",
      "name": "python",
      "nbconvert_exporter": "python",
      "pygments_lexer": "ipython3",
      "version": "3.7.4"
    },
    "colab": {
      "name": "C2W1_Assignment.ipynb",
      "provenance": []
    }
  },
  "nbformat": 4,
  "nbformat_minor": 5
}