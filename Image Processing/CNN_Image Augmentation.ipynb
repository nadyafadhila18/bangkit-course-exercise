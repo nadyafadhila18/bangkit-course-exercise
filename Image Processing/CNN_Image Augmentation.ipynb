{
  "cells": [
    {
      "cell_type": "markdown",
      "metadata": {
        "id": "AuW-xg_bTsaF"
      },
      "source": [
        "# Week 2: Tackle Overfitting with Data Augmentation\n",
        "\n",
        "Welcome to this assignment! As in the previous week, you will be using the famous `cats vs dogs` dataset to train a model that can classify images of dogs from images of cats. For this, you will create your own Convolutional Neural Network in Tensorflow and leverage Keras' image preprocessing utilities, more so this time around since Keras provides excellent support for augmenting image data.\n",
        "\n",
        "You will also need to create the helper functions to move the images around the filesystem as you did last week, so if you need to refresh your memory with the `os` module be sure to take a look a the [docs](https://docs.python.org/3/library/os.html).\n",
        "\n",
        "Let's get started!"
      ]
    },
    {
      "cell_type": "code",
      "execution_count": 1,
      "metadata": {
        "id": "dn-6c02VmqiN"
      },
      "outputs": [],
      "source": [
        "import os\n",
        "import zipfile\n",
        "import random\n",
        "import shutil\n",
        "import tensorflow as tf\n",
        "from tensorflow.keras.preprocessing.image import ImageDataGenerator\n",
        "from shutil import copyfile\n",
        "import matplotlib.pyplot as plt"
      ]
    },
    {
      "cell_type": "markdown",
      "metadata": {
        "id": "bLTQd84RUs1j"
      },
      "source": [
        "Download the dataset from its original source by running the cell below. \n",
        "\n",
        "Note that the `zip` file that contains the images is unzipped under the `/tmp` directory."
      ]
    },
    {
      "cell_type": "code",
      "execution_count": 2,
      "metadata": {
        "id": "3sd9dQWa23aj",
        "lines_to_next_cell": 2,
        "outputId": "8e6a2090-96f0-4507-b026-fb07dbddbafe",
        "colab": {
          "base_uri": "https://localhost:8080/"
        }
      },
      "outputs": [
        {
          "output_type": "stream",
          "name": "stdout",
          "text": [
            "--2022-04-01 11:04:19--  https://download.microsoft.com/download/3/E/1/3E1C3F21-ECDB-4869-8368-6DEBA77B919F/kagglecatsanddogs_3367a.zip\n",
            "Resolving download.microsoft.com (download.microsoft.com)... 104.73.0.105, 2600:1409:3000:48e::e59, 2600:1409:3000:4a4::e59\n",
            "Connecting to download.microsoft.com (download.microsoft.com)|104.73.0.105|:443... connected.\n",
            "HTTP request sent, awaiting response... 200 OK\n",
            "Length: 824894548 (787M) [application/octet-stream]\n",
            "Saving to: ‘/tmp/cats-and-dogs.zip’\n",
            "\n",
            "/tmp/cats-and-dogs. 100%[===================>] 786.68M   161MB/s    in 4.6s    \n",
            "\n",
            "2022-04-01 11:04:24 (171 MB/s) - ‘/tmp/cats-and-dogs.zip’ saved [824894548/824894548]\n",
            "\n"
          ]
        }
      ],
      "source": [
        "# If the URL doesn't work, visit https://www.microsoft.com/en-us/download/confirmation.aspx?id=54765\n",
        "# And right click on the 'Download Manually' link to get a new URL to the dataset\n",
        "\n",
        "# Note: This is a very large dataset and will take some time to download\n",
        "\n",
        "!wget --no-check-certificate \\\n",
        "    \"https://download.microsoft.com/download/3/E/1/3E1C3F21-ECDB-4869-8368-6DEBA77B919F/kagglecatsanddogs_3367a.zip\" \\\n",
        "    -O \"/tmp/cats-and-dogs.zip\"\n",
        "\n",
        "local_zip = '/tmp/cats-and-dogs.zip'\n",
        "zip_ref   = zipfile.ZipFile(local_zip, 'r')\n",
        "zip_ref.extractall('/tmp')\n",
        "zip_ref.close()"
      ]
    },
    {
      "cell_type": "markdown",
      "metadata": {
        "id": "e_HsUV9WVJHL"
      },
      "source": [
        "Now the images are stored within the `/tmp/PetImages` directory. There is a subdirectory for each class, so one for dogs and one for cats."
      ]
    },
    {
      "cell_type": "code",
      "execution_count": 3,
      "metadata": {
        "id": "DM851ZmN28J3",
        "outputId": "5a551295-8204-4678-b961-e16630876d9c",
        "colab": {
          "base_uri": "https://localhost:8080/"
        }
      },
      "outputs": [
        {
          "output_type": "stream",
          "name": "stdout",
          "text": [
            "There are 12501 images of dogs.\n",
            "There are 12501 images of cats.\n"
          ]
        }
      ],
      "source": [
        "source_path = '/tmp/PetImages'\n",
        "\n",
        "source_path_dogs = os.path.join(source_path, 'Dog')\n",
        "source_path_cats = os.path.join(source_path, 'Cat')\n",
        "\n",
        "\n",
        "# os.listdir returns a list containing all files under the given path\n",
        "print(f\"There are {len(os.listdir(source_path_dogs))} images of dogs.\")\n",
        "print(f\"There are {len(os.listdir(source_path_cats))} images of cats.\")"
      ]
    },
    {
      "cell_type": "markdown",
      "metadata": {
        "id": "G7dI86rmRGmC"
      },
      "source": [
        "**Expected Output:**\n",
        "\n",
        "```\n",
        "There are 12501 images of dogs.\n",
        "There are 12501 images of cats.\n",
        "```"
      ]
    },
    {
      "cell_type": "markdown",
      "metadata": {
        "id": "iFbMliudNIjW"
      },
      "source": [
        "You will need a directory for cats-v-dogs, and subdirectories for training\n",
        "and testing. These in turn will need subdirectories for 'cats' and 'dogs'. To accomplish this, complete the `create_train_test_dirs` below:"
      ]
    },
    {
      "cell_type": "code",
      "execution_count": 5,
      "metadata": {
        "cellView": "code",
        "id": "F-QkLjxpmyK2"
      },
      "outputs": [],
      "source": [
        "# Define root directory\n",
        "root_path = '/tmp/cats-v-dogs'\n",
        "\n",
        "# Empty directory to prevent FileExistsError is the function is run several times\n",
        "if os.path.exists(root_path):\n",
        "  shutil.rmtree(root_path)\n",
        "\n",
        "# GRADED FUNCTION: create_train_test_dirs\n",
        "def create_train_test_dirs(root_path):\n",
        "  ### START CODE HERE\n",
        "  root_path = '/tmp/cats-v-dogs'\n",
        "  dirs = ['training','testing']\n",
        "  files = ['cats', 'dogs']\n",
        "\n",
        "  for items in dirs:\n",
        "    path = os.path.join(root_path, items)\n",
        "    os.makedirs(path)\n",
        "    for items2 in files:\n",
        "      path2 = os.path.join(path, items2)\n",
        "      os.makedirs(path2)\n",
        "  # HINT:\n",
        "  # Use os.makedirs to create your directories with intermediate subdirectories\n",
        "  # Don't hardcode the paths. Use os.path.join to append the new directories to the root_path parameter\n",
        "\n",
        "\n",
        "  \n",
        "  ### END CODE HERE\n",
        "\n",
        "  \n",
        "try:\n",
        "  create_train_test_dirs(root_path)\n",
        "except FileExistsError:\n",
        "  print(\"You should not be seeing this since the upper directory is removed beforehand\")"
      ]
    },
    {
      "cell_type": "code",
      "execution_count": 7,
      "metadata": {
        "id": "5dhtL344OK00",
        "outputId": "953b833c-bfef-4abf-82ea-8d6cdd0a6181",
        "colab": {
          "base_uri": "https://localhost:8080/"
        }
      },
      "outputs": [
        {
          "output_type": "stream",
          "name": "stdout",
          "text": [
            "/tmp/cats-v-dogs/training\n",
            "/tmp/cats-v-dogs/testing\n",
            "/tmp/cats-v-dogs/training/cats\n",
            "/tmp/cats-v-dogs/training/dogs\n",
            "/tmp/cats-v-dogs/testing/cats\n",
            "/tmp/cats-v-dogs/testing/dogs\n"
          ]
        }
      ],
      "source": [
        "# Test your create_train_test_dirs function\n",
        "\n",
        "for rootdir, dirs, files in os.walk(root_path):\n",
        "    for subdir in dirs:\n",
        "        print(os.path.join(rootdir, subdir))"
      ]
    },
    {
      "cell_type": "markdown",
      "metadata": {
        "id": "D7A0RK3IQsvg"
      },
      "source": [
        "**Expected Output (directory order might vary):**\n",
        "\n",
        "``` txt\n",
        "/tmp/cats-v-dogs/training\n",
        "/tmp/cats-v-dogs/testing\n",
        "/tmp/cats-v-dogs/training/cats\n",
        "/tmp/cats-v-dogs/training/dogs\n",
        "/tmp/cats-v-dogs/testing/cats\n",
        "/tmp/cats-v-dogs/testing/dogs\n",
        "\n",
        "```"
      ]
    },
    {
      "cell_type": "markdown",
      "metadata": {
        "id": "R93T7HdE5txZ"
      },
      "source": [
        "Code the `split_data` function which takes in the following arguments:\n",
        "- SOURCE: directory containing the files\n",
        "\n",
        "- TRAINING: directory that a portion of the files will be copied to (will be used for training)\n",
        "- TESTING: directory that a portion of the files will be copied to (will be used for testing)\n",
        "- SPLIT SIZE: to determine the portion\n",
        "\n",
        "The files should be randomized, so that the training set is a random sample of the files, and the test set is made up of the remaining files.\n",
        "\n",
        "For example, if `SOURCE` is `PetImages/Cat`, and `SPLIT` SIZE is .9 then 90% of the images in `PetImages/Cat` will be copied to the `TRAINING` dir\n",
        "and 10% of the images will be copied to the `TESTING` dir.\n",
        "\n",
        "All images should be checked before the copy, so if they have a zero file length, they will be omitted from the copying process. If this is the case then your function should print out a message such as `\"filename is zero length, so ignoring.\"`. **You should perform this check before the split so that only non-zero images are considered when doing the actual split.**\n",
        "\n",
        "\n",
        "Hints:\n",
        "\n",
        "- `os.listdir(DIRECTORY)` returns a list with the contents of that directory.\n",
        "\n",
        "- `os.path.getsize(PATH)` returns the size of the file\n",
        "\n",
        "- `copyfile(source, destination)` copies a file from source to destination\n",
        "\n",
        "- `random.sample(list, len(list))` shuffles a list"
      ]
    },
    {
      "cell_type": "code",
      "execution_count": 9,
      "metadata": {
        "cellView": "code",
        "id": "zvSODo0f9LaU"
      },
      "outputs": [],
      "source": [
        "# GRADED FUNCTION: split_data\n",
        "def split_data(SOURCE, TRAINING, TESTING, SPLIT_SIZE):\n",
        "\n",
        "  ### START CODE HERE\n",
        "  files = []\n",
        "  for file_name in os.listdir(SOURCE):\n",
        "    file = SOURCE + file_name\n",
        "    if os.path.getsize(file)>0:\n",
        "      files.append(file_name)\n",
        "    else:\n",
        "      print(file_name+\" is zero length, so ignoring.\")\n",
        "\n",
        "  training_length = int(len(files)*SPLIT_SIZE)\n",
        "  testing_length = int(len(files)-training_length)\n",
        "  random_set = random.sample(files, len(files))\n",
        "  training_set = random_set[0:training_length]\n",
        "  testing_set = random_set[-testing_length:]\n",
        "\n",
        "  for filename in training_set:\n",
        "    file2 = SOURCE+filename\n",
        "    dest = TRAINING+filename\n",
        "    copyfile(file2, dest)\n",
        "\n",
        "  for filename in testing_set:\n",
        "    file2 = SOURCE+filename\n",
        "    dest = TESTING+filename\n",
        "    copyfile(file2, dest)\n",
        "\n",
        "  ### END CODE HERE\n"
      ]
    },
    {
      "cell_type": "code",
      "execution_count": 10,
      "metadata": {
        "id": "FlIdoUeX9S-9",
        "outputId": "246aeda1-6c96-4d62-d5eb-c202dfe87c72",
        "colab": {
          "base_uri": "https://localhost:8080/"
        }
      },
      "outputs": [
        {
          "output_type": "stream",
          "name": "stdout",
          "text": [
            "666.jpg is zero length, so ignoring.\n",
            "11702.jpg is zero length, so ignoring.\n",
            "\n",
            "\n",
            "There are 11250 images of cats for training\n",
            "There are 11250 images of dogs for training\n",
            "There are 1250 images of cats for testing\n",
            "There are 1250 images of dogs for testing\n"
          ]
        }
      ],
      "source": [
        "# Test your split_data function\n",
        "\n",
        "# Define paths\n",
        "CAT_SOURCE_DIR = \"/tmp/PetImages/Cat/\"\n",
        "DOG_SOURCE_DIR = \"/tmp/PetImages/Dog/\"\n",
        "\n",
        "TRAINING_DIR = \"/tmp/cats-v-dogs/training/\"\n",
        "TESTING_DIR = \"/tmp/cats-v-dogs/testing/\"\n",
        "\n",
        "TRAINING_CATS_DIR = os.path.join(TRAINING_DIR, \"cats/\")\n",
        "TESTING_CATS_DIR = os.path.join(TESTING_DIR, \"cats/\")\n",
        "\n",
        "TRAINING_DOGS_DIR = os.path.join(TRAINING_DIR, \"dogs/\")\n",
        "TESTING_DOGS_DIR = os.path.join(TESTING_DIR, \"dogs/\")\n",
        "\n",
        "# Empty directories in case you run this cell multiple times\n",
        "if len(os.listdir(TRAINING_CATS_DIR)) > 0:\n",
        "  for file in os.scandir(TRAINING_CATS_DIR):\n",
        "    os.remove(file.path)\n",
        "if len(os.listdir(TRAINING_DOGS_DIR)) > 0:\n",
        "  for file in os.scandir(TRAINING_DOGS_DIR):\n",
        "    os.remove(file.path)\n",
        "if len(os.listdir(TESTING_CATS_DIR)) > 0:\n",
        "  for file in os.scandir(TESTING_CATS_DIR):\n",
        "    os.remove(file.path)\n",
        "if len(os.listdir(TESTING_DOGS_DIR)) > 0:\n",
        "  for file in os.scandir(TESTING_DOGS_DIR):\n",
        "    os.remove(file.path)\n",
        "\n",
        "# Define proportion of images used for training\n",
        "split_size = .9\n",
        "\n",
        "# Run the function\n",
        "# NOTE: Messages about zero length images should be printed out\n",
        "split_data(CAT_SOURCE_DIR, TRAINING_CATS_DIR, TESTING_CATS_DIR, split_size)\n",
        "split_data(DOG_SOURCE_DIR, TRAINING_DOGS_DIR, TESTING_DOGS_DIR, split_size)\n",
        "\n",
        "# Check that the number of images matches the expected output\n",
        "print(f\"\\n\\nThere are {len(os.listdir(TRAINING_CATS_DIR))} images of cats for training\")\n",
        "print(f\"There are {len(os.listdir(TRAINING_DOGS_DIR))} images of dogs for training\")\n",
        "print(f\"There are {len(os.listdir(TESTING_CATS_DIR))} images of cats for testing\")\n",
        "print(f\"There are {len(os.listdir(TESTING_DOGS_DIR))} images of dogs for testing\")"
      ]
    },
    {
      "cell_type": "markdown",
      "metadata": {
        "id": "hvskJNOFVSaz"
      },
      "source": [
        "**Expected Output:**\n",
        "\n",
        "```\n",
        "666.jpg is zero length, so ignoring.\n",
        "11702.jpg is zero length, so ignoring.\n",
        "```\n",
        "\n",
        "```\n",
        "There are 11250 images of cats for training\n",
        "There are 11250 images of dogs for training\n",
        "There are 1250 images of cats for testing\n",
        "There are 1250 images of dogs for testing\n",
        "```"
      ]
    },
    {
      "cell_type": "markdown",
      "metadata": {
        "id": "Zil4QmOD_mXF"
      },
      "source": [
        "Now that you have successfully organized the data in a way that can be easily fed to Keras' `ImageDataGenerator`, it is time for you to code the generators that will yield batches of images, both for training and validation. For this, complete the `train_val_generators` function below.\n",
        "\n",
        "Something important to note is that the images in this dataset come in a variety of resolutions. Luckily, the `flow_from_directory` method allows you to standarize this by defining a tuple called `target_size` that will be used to convert each image to this target resolution. **For this exercise use a `target_size` of (150, 150)**.\n",
        "\n",
        "**Note:** So far, you have seen the term `testing` being used a lot for referring to a subset of images within the dataset. In this exercise, all of the `testing` data is actually being used as `validation` data. This is not very important within the context of the task at hand but it is worth mentioning to avoid confusion."
      ]
    },
    {
      "cell_type": "code",
      "execution_count": 11,
      "metadata": {
        "cellView": "code",
        "id": "fQrZfVgz4j2g"
      },
      "outputs": [],
      "source": [
        "# GRADED FUNCTION: train_val_generators\n",
        "def train_val_generators(TRAINING_DIR, VALIDATION_DIR):\n",
        "  ### START CODE HERE\n",
        "  TRAINING_DIR = '/tmp/cats-v-dogs/training/'\n",
        "  VALIDATION_DIR = '/tmp/cats-v-dogs/testing/'\n",
        "  cat_train_dir = os.path.join(TRAINING_DIR,'cats')\n",
        "  dog_train_dir = os.path.join(TRAINING_DIR,'dogs')\n",
        "  validation_cats_dir = os.path.join(VALIDATION_DIR, 'cats')\n",
        "  validation_dogs_dir = os.path.join(VALIDATION_DIR, 'dogs')\n",
        "  # Instantiate the ImageDataGenerator class (don't forget to set the arguments to augment the images)\n",
        "  train_datagen = ImageDataGenerator(rescale=1./255,\n",
        "                                     rotation_range=40,\n",
        "                                     width_shift_range=0.2,\n",
        "                                     height_shift_range=0.2,\n",
        "                                     shear_range=0.2,\n",
        "                                     zoom_range=0.2,\n",
        "                                     horizontal_flip=True,\n",
        "                                     fill_mode='nearest')\n",
        "\n",
        "  # Pass in the appropriate arguments to the flow_from_directory method\n",
        "  train_generator = train_datagen.flow_from_directory(directory=TRAINING_DIR,\n",
        "                                                      batch_size=50,\n",
        "                                                      class_mode='binary',\n",
        "                                                      target_size=(150, 150))\n",
        "\n",
        "  # Instantiate the ImageDataGenerator class (don't forget to set the rescale argument)\n",
        "  validation_datagen = ImageDataGenerator(rescale = 1./255)\n",
        "\n",
        "  # Pass in the appropriate arguments to the flow_from_directory method\n",
        "  validation_generator = validation_datagen.flow_from_directory(directory=VALIDATION_DIR,\n",
        "                                                                batch_size=50,\n",
        "                                                                class_mode='binary',\n",
        "                                                                target_size=(150, 150))\n",
        "  ### END CODE HERE\n",
        "  return train_generator, validation_generator\n"
      ]
    },
    {
      "cell_type": "code",
      "execution_count": 12,
      "metadata": {
        "id": "qM7FxrjGiobD",
        "outputId": "a6f8ef14-02fc-4692-fb98-eb6d856f313e",
        "colab": {
          "base_uri": "https://localhost:8080/"
        }
      },
      "outputs": [
        {
          "output_type": "stream",
          "name": "stdout",
          "text": [
            "Found 22498 images belonging to 2 classes.\n",
            "Found 2500 images belonging to 2 classes.\n"
          ]
        }
      ],
      "source": [
        "# Test your generators\n",
        "train_generator, validation_generator = train_val_generators(TRAINING_DIR, TESTING_DIR)"
      ]
    },
    {
      "cell_type": "markdown",
      "metadata": {
        "id": "tiPNmSfZjHwJ"
      },
      "source": [
        "**Expected Output:**\n",
        "\n",
        "```\n",
        "Found 22498 images belonging to 2 classes.\n",
        "Found 2500 images belonging to 2 classes.\n",
        "```\n"
      ]
    },
    {
      "cell_type": "markdown",
      "metadata": {
        "id": "TI3oEmyQCZoO"
      },
      "source": [
        "One last step before training is to define the architecture of the model that will be trained.\n",
        "\n",
        "Complete the `create_model` function below which should return a Keras' `Sequential` model.\n",
        "\n",
        "Aside from defining the architecture of the model, you should also compile it so make sure to use a `loss` function that is compatible with the `class_mode` you defined in the previous exercise, which should also be compatible with the output of your network. You can tell if they aren't compatible if you get an error during training.\n",
        "\n",
        "**Note that you should use at least 3 convolution layers to achieve the desired performance.**"
      ]
    },
    {
      "cell_type": "code",
      "execution_count": 13,
      "metadata": {
        "cellView": "code",
        "id": "oDPK8tUB_O9e",
        "lines_to_next_cell": 2
      },
      "outputs": [],
      "source": [
        "# GRADED FUNCTION: create_model\n",
        "def create_model():\n",
        "  # DEFINE A KERAS MODEL TO CLASSIFY CATS V DOGS\n",
        "  # USE AT LEAST 3 CONVOLUTION LAYERS\n",
        "\n",
        "  ### START CODE HERE\n",
        "\n",
        "  model = tf.keras.models.Sequential([ \n",
        "                                      tf.keras.layers.Conv2D(16, (3,3), activation='relu', input_shape=(150,150, 3)),\n",
        "                                      tf.keras.layers.MaxPooling2D(2,2),\n",
        "                                      tf.keras.layers.Conv2D(32, (3,3), activation='relu'),\n",
        "                                      tf.keras.layers.MaxPooling2D(2,2), \n",
        "                                      tf.keras.layers.Conv2D(32, (3,3), activation='relu'), \n",
        "                                      tf.keras.layers.MaxPooling2D(2,2),\n",
        "                                      tf.keras.layers.Conv2D(64, (3,3), activation='relu'), \n",
        "                                      tf.keras.layers.MaxPooling2D(2,2),\n",
        "                                      # Flatten the results to feed into a DNN\n",
        "                                      tf.keras.layers.Flatten(), \n",
        "                                      # 512 neuron hidden layer\n",
        "                                      tf.keras.layers.Dense(512, activation='relu'), \n",
        "                                      # Only 1 output neuron. It will contain a value from 0-1 where 0 for 1 class ('cats') and 1 for the other ('dogs')\n",
        "                                      tf.keras.layers.Dense(1, activation='sigmoid')\n",
        "\n",
        "  ])\n",
        "\n",
        "  from tensorflow.keras.optimizers import RMSprop\n",
        "\n",
        "  model.compile(optimizer=RMSprop(learning_rate=0.001),\n",
        "              loss='binary_crossentropy',\n",
        "              metrics = ['accuracy'])\n",
        "    \n",
        "  ### END CODE HERE\n",
        "\n",
        "  return model\n"
      ]
    },
    {
      "cell_type": "markdown",
      "metadata": {
        "id": "SMFNJZmTCZv6"
      },
      "source": [
        "Now it is time to train your model!\n",
        "\n",
        "Note: You can ignore the `UserWarning: Possibly corrupt EXIF data.` warnings."
      ]
    },
    {
      "cell_type": "code",
      "execution_count": 14,
      "metadata": {
        "id": "5qE1G6JB4fMn",
        "outputId": "59c2ed4a-a6d5-4f1b-8f5d-6493a576b8f6",
        "colab": {
          "base_uri": "https://localhost:8080/"
        }
      },
      "outputs": [
        {
          "output_type": "stream",
          "name": "stdout",
          "text": [
            "Epoch 1/50\n",
            "80/80 - 46s - loss: 0.7010 - accuracy: 0.5403 - val_loss: 0.6567 - val_accuracy: 0.6012 - 46s/epoch - 575ms/step\n",
            "Epoch 2/50\n",
            "80/80 - 34s - loss: 0.6691 - accuracy: 0.5888 - val_loss: 0.6530 - val_accuracy: 0.5880 - 34s/epoch - 431ms/step\n",
            "Epoch 3/50\n",
            "80/80 - 34s - loss: 0.6671 - accuracy: 0.6072 - val_loss: 0.6155 - val_accuracy: 0.6564 - 34s/epoch - 428ms/step\n",
            "Epoch 4/50\n",
            "80/80 - 34s - loss: 0.6502 - accuracy: 0.6310 - val_loss: 0.5902 - val_accuracy: 0.6896 - 34s/epoch - 427ms/step\n",
            "Epoch 5/50\n"
          ]
        },
        {
          "output_type": "stream",
          "name": "stderr",
          "text": [
            "/usr/local/lib/python3.7/dist-packages/PIL/TiffImagePlugin.py:770: UserWarning: Possibly corrupt EXIF data.  Expecting to read 32 bytes but only got 0. Skipping tag 270\n",
            "  \" Skipping tag %s\" % (size, len(data), tag)\n",
            "/usr/local/lib/python3.7/dist-packages/PIL/TiffImagePlugin.py:770: UserWarning: Possibly corrupt EXIF data.  Expecting to read 5 bytes but only got 0. Skipping tag 271\n",
            "  \" Skipping tag %s\" % (size, len(data), tag)\n",
            "/usr/local/lib/python3.7/dist-packages/PIL/TiffImagePlugin.py:770: UserWarning: Possibly corrupt EXIF data.  Expecting to read 8 bytes but only got 0. Skipping tag 272\n",
            "  \" Skipping tag %s\" % (size, len(data), tag)\n",
            "/usr/local/lib/python3.7/dist-packages/PIL/TiffImagePlugin.py:770: UserWarning: Possibly corrupt EXIF data.  Expecting to read 8 bytes but only got 0. Skipping tag 282\n",
            "  \" Skipping tag %s\" % (size, len(data), tag)\n",
            "/usr/local/lib/python3.7/dist-packages/PIL/TiffImagePlugin.py:770: UserWarning: Possibly corrupt EXIF data.  Expecting to read 8 bytes but only got 0. Skipping tag 283\n",
            "  \" Skipping tag %s\" % (size, len(data), tag)\n",
            "/usr/local/lib/python3.7/dist-packages/PIL/TiffImagePlugin.py:770: UserWarning: Possibly corrupt EXIF data.  Expecting to read 20 bytes but only got 0. Skipping tag 306\n",
            "  \" Skipping tag %s\" % (size, len(data), tag)\n",
            "/usr/local/lib/python3.7/dist-packages/PIL/TiffImagePlugin.py:770: UserWarning: Possibly corrupt EXIF data.  Expecting to read 48 bytes but only got 0. Skipping tag 532\n",
            "  \" Skipping tag %s\" % (size, len(data), tag)\n",
            "/usr/local/lib/python3.7/dist-packages/PIL/TiffImagePlugin.py:788: UserWarning: Corrupt EXIF data.  Expecting to read 2 bytes but only got 0. \n",
            "  warnings.warn(str(msg))\n"
          ]
        },
        {
          "output_type": "stream",
          "name": "stdout",
          "text": [
            "80/80 - 34s - loss: 0.6316 - accuracy: 0.6436 - val_loss: 0.6424 - val_accuracy: 0.6304 - 34s/epoch - 429ms/step\n",
            "Epoch 6/50\n",
            "80/80 - 34s - loss: 0.6234 - accuracy: 0.6580 - val_loss: 0.5828 - val_accuracy: 0.6828 - 34s/epoch - 426ms/step\n",
            "Epoch 7/50\n",
            "80/80 - 34s - loss: 0.6170 - accuracy: 0.6540 - val_loss: 0.5812 - val_accuracy: 0.6880 - 34s/epoch - 425ms/step\n",
            "Epoch 8/50\n",
            "80/80 - 34s - loss: 0.6170 - accuracy: 0.6626 - val_loss: 0.5834 - val_accuracy: 0.6764 - 34s/epoch - 426ms/step\n",
            "Epoch 9/50\n",
            "80/80 - 34s - loss: 0.5968 - accuracy: 0.6870 - val_loss: 0.5464 - val_accuracy: 0.7300 - 34s/epoch - 426ms/step\n",
            "Epoch 10/50\n",
            "80/80 - 34s - loss: 0.6050 - accuracy: 0.6992 - val_loss: 0.5355 - val_accuracy: 0.7360 - 34s/epoch - 423ms/step\n",
            "Epoch 11/50\n",
            "80/80 - 34s - loss: 0.5941 - accuracy: 0.6967 - val_loss: 0.5466 - val_accuracy: 0.7064 - 34s/epoch - 425ms/step\n",
            "Epoch 12/50\n",
            "80/80 - 34s - loss: 0.5869 - accuracy: 0.6883 - val_loss: 0.5695 - val_accuracy: 0.7240 - 34s/epoch - 422ms/step\n",
            "Epoch 13/50\n",
            "80/80 - 34s - loss: 0.5815 - accuracy: 0.6890 - val_loss: 0.5436 - val_accuracy: 0.7340 - 34s/epoch - 424ms/step\n",
            "Epoch 14/50\n",
            "80/80 - 34s - loss: 0.5731 - accuracy: 0.7007 - val_loss: 0.5032 - val_accuracy: 0.7564 - 34s/epoch - 423ms/step\n",
            "Epoch 15/50\n",
            "80/80 - 34s - loss: 0.5598 - accuracy: 0.7120 - val_loss: 0.5177 - val_accuracy: 0.7404 - 34s/epoch - 423ms/step\n",
            "Epoch 16/50\n",
            "80/80 - 34s - loss: 0.5507 - accuracy: 0.7155 - val_loss: 0.6581 - val_accuracy: 0.5956 - 34s/epoch - 425ms/step\n",
            "Epoch 17/50\n",
            "80/80 - 34s - loss: 0.5460 - accuracy: 0.7243 - val_loss: 0.5439 - val_accuracy: 0.7192 - 34s/epoch - 422ms/step\n",
            "Epoch 18/50\n",
            "80/80 - 34s - loss: 0.5738 - accuracy: 0.7061 - val_loss: 0.4656 - val_accuracy: 0.7884 - 34s/epoch - 423ms/step\n",
            "Epoch 19/50\n",
            "80/80 - 34s - loss: 0.5400 - accuracy: 0.7343 - val_loss: 0.4821 - val_accuracy: 0.7744 - 34s/epoch - 424ms/step\n",
            "Epoch 20/50\n",
            "80/80 - 34s - loss: 0.5428 - accuracy: 0.7296 - val_loss: 0.5032 - val_accuracy: 0.7548 - 34s/epoch - 421ms/step\n",
            "Epoch 21/50\n",
            "80/80 - 34s - loss: 0.5413 - accuracy: 0.7232 - val_loss: 0.4809 - val_accuracy: 0.7708 - 34s/epoch - 428ms/step\n",
            "Epoch 22/50\n",
            "80/80 - 38s - loss: 0.5378 - accuracy: 0.7296 - val_loss: 0.4689 - val_accuracy: 0.7824 - 38s/epoch - 469ms/step\n",
            "Epoch 23/50\n",
            "80/80 - 34s - loss: 0.5315 - accuracy: 0.7364 - val_loss: 0.4988 - val_accuracy: 0.7464 - 34s/epoch - 424ms/step\n",
            "Epoch 24/50\n",
            "80/80 - 34s - loss: 0.5236 - accuracy: 0.7483 - val_loss: 0.4628 - val_accuracy: 0.7740 - 34s/epoch - 424ms/step\n",
            "Epoch 25/50\n",
            "80/80 - 34s - loss: 0.5115 - accuracy: 0.7495 - val_loss: 0.4386 - val_accuracy: 0.7976 - 34s/epoch - 426ms/step\n",
            "Epoch 26/50\n",
            "80/80 - 34s - loss: 0.5119 - accuracy: 0.7470 - val_loss: 0.4513 - val_accuracy: 0.7868 - 34s/epoch - 424ms/step\n",
            "Epoch 27/50\n",
            "80/80 - 34s - loss: 0.5140 - accuracy: 0.7474 - val_loss: 0.7003 - val_accuracy: 0.6812 - 34s/epoch - 424ms/step\n",
            "Epoch 28/50\n",
            "80/80 - 34s - loss: 0.5201 - accuracy: 0.7467 - val_loss: 0.4408 - val_accuracy: 0.7884 - 34s/epoch - 421ms/step\n",
            "Epoch 29/50\n",
            "80/80 - 34s - loss: 0.5075 - accuracy: 0.7483 - val_loss: 0.4459 - val_accuracy: 0.7972 - 34s/epoch - 425ms/step\n",
            "Epoch 30/50\n",
            "80/80 - 34s - loss: 0.5059 - accuracy: 0.7506 - val_loss: 0.4457 - val_accuracy: 0.7900 - 34s/epoch - 425ms/step\n",
            "Epoch 31/50\n",
            "80/80 - 34s - loss: 0.5001 - accuracy: 0.7599 - val_loss: 0.4423 - val_accuracy: 0.7864 - 34s/epoch - 422ms/step\n",
            "Epoch 32/50\n",
            "80/80 - 34s - loss: 0.4965 - accuracy: 0.7665 - val_loss: 0.4365 - val_accuracy: 0.7972 - 34s/epoch - 423ms/step\n",
            "Epoch 33/50\n",
            "80/80 - 34s - loss: 0.4763 - accuracy: 0.7738 - val_loss: 0.4278 - val_accuracy: 0.8088 - 34s/epoch - 420ms/step\n",
            "Epoch 34/50\n",
            "80/80 - 34s - loss: 0.4897 - accuracy: 0.7670 - val_loss: 0.3973 - val_accuracy: 0.8168 - 34s/epoch - 423ms/step\n",
            "Epoch 35/50\n",
            "80/80 - 34s - loss: 0.4764 - accuracy: 0.7763 - val_loss: 0.4492 - val_accuracy: 0.7840 - 34s/epoch - 423ms/step\n",
            "Epoch 36/50\n",
            "80/80 - 34s - loss: 0.4692 - accuracy: 0.7804 - val_loss: 0.3960 - val_accuracy: 0.8212 - 34s/epoch - 424ms/step\n",
            "Epoch 37/50\n",
            "80/80 - 34s - loss: 0.4674 - accuracy: 0.7780 - val_loss: 0.5954 - val_accuracy: 0.6832 - 34s/epoch - 427ms/step\n",
            "Epoch 38/50\n",
            "80/80 - 34s - loss: 0.4603 - accuracy: 0.7822 - val_loss: 0.3792 - val_accuracy: 0.8356 - 34s/epoch - 427ms/step\n",
            "Epoch 39/50\n",
            "80/80 - 34s - loss: 0.4623 - accuracy: 0.7890 - val_loss: 0.4006 - val_accuracy: 0.8080 - 34s/epoch - 422ms/step\n",
            "Epoch 40/50\n",
            "80/80 - 34s - loss: 0.4587 - accuracy: 0.7912 - val_loss: 0.3973 - val_accuracy: 0.8120 - 34s/epoch - 423ms/step\n",
            "Epoch 41/50\n",
            "80/80 - 34s - loss: 0.4488 - accuracy: 0.7900 - val_loss: 0.4820 - val_accuracy: 0.7856 - 34s/epoch - 423ms/step\n",
            "Epoch 42/50\n",
            "80/80 - 34s - loss: 0.4547 - accuracy: 0.7876 - val_loss: 0.3561 - val_accuracy: 0.8380 - 34s/epoch - 423ms/step\n",
            "Epoch 43/50\n",
            "80/80 - 34s - loss: 0.4379 - accuracy: 0.7966 - val_loss: 0.4167 - val_accuracy: 0.8104 - 34s/epoch - 421ms/step\n",
            "Epoch 44/50\n",
            "80/80 - 34s - loss: 0.4524 - accuracy: 0.7947 - val_loss: 0.4075 - val_accuracy: 0.8184 - 34s/epoch - 421ms/step\n",
            "Epoch 45/50\n",
            "80/80 - 34s - loss: 0.4551 - accuracy: 0.7908 - val_loss: 0.3555 - val_accuracy: 0.8356 - 34s/epoch - 423ms/step\n",
            "Epoch 46/50\n",
            "80/80 - 34s - loss: 0.4384 - accuracy: 0.8060 - val_loss: 0.4691 - val_accuracy: 0.7968 - 34s/epoch - 420ms/step\n",
            "Epoch 47/50\n",
            "80/80 - 34s - loss: 0.4273 - accuracy: 0.8037 - val_loss: 0.3703 - val_accuracy: 0.8340 - 34s/epoch - 422ms/step\n",
            "Epoch 48/50\n",
            "80/80 - 34s - loss: 0.4326 - accuracy: 0.7955 - val_loss: 0.4156 - val_accuracy: 0.7968 - 34s/epoch - 420ms/step\n",
            "Epoch 49/50\n",
            "80/80 - 34s - loss: 0.4364 - accuracy: 0.7958 - val_loss: 0.3800 - val_accuracy: 0.8408 - 34s/epoch - 421ms/step\n",
            "Epoch 50/50\n",
            "80/80 - 34s - loss: 0.4328 - accuracy: 0.7970 - val_loss: 0.3658 - val_accuracy: 0.8444 - 34s/epoch - 420ms/step\n"
          ]
        }
      ],
      "source": [
        "# Get the untrained model\n",
        "model = create_model()\n",
        "\n",
        "# Train the model\n",
        "# Note that this may take some time.\n",
        "history = model.fit(train_generator,\n",
        "                    steps_per_epoch=80,\n",
        "                    epochs=50,\n",
        "                    verbose=2,\n",
        "                    validation_data=validation_generator)"
      ]
    },
    {
      "cell_type": "markdown",
      "metadata": {
        "id": "VGsaDMc-GMd4"
      },
      "source": [
        "Once training has finished, you can run the following cell to check the training and validation accuracy achieved at the end of each epoch.\n",
        "\n",
        "**To pass this assignment, your model should achieve a training and validation accuracy of at least 80% and the final testing accuracy should be either higher than the training one or have a 5% difference at maximum**. If your model didn't achieve these thresholds, try training again with a different model architecture, remember to use at least 3 convolutional layers or try tweaking the image augmentation process.\n",
        "\n",
        "You might wonder why the training threshold to pass this assignment is significantly lower compared to last week's assignment. Image augmentation does help with overfitting but usually this comes at the expense of requiring more training time. To keep the training time reasonable, the same number of epochs as in the previous assignment are kept. \n",
        "\n",
        "However, as an optional exercise you are encouraged to try training for more epochs and to achieve really good training and validation accuracies."
      ]
    },
    {
      "cell_type": "code",
      "execution_count": 15,
      "metadata": {
        "id": "MWZrJN4-65RC",
        "outputId": "795f2275-8ea4-487a-9af9-dffbeec25c32",
        "colab": {
          "base_uri": "https://localhost:8080/",
          "height": 546
        }
      },
      "outputs": [
        {
          "output_type": "display_data",
          "data": {
            "text/plain": [
              "<Figure size 432x288 with 1 Axes>"
            ],
            "image/png": "[encoded data removed]"
          },
          "metadata": {
            "needs_background": "light"
          }
        },
        {
          "output_type": "stream",
          "name": "stdout",
          "text": [
            "\n"
          ]
        },
        {
          "output_type": "display_data",
          "data": {
            "text/plain": [
              "<Figure size 432x288 with 1 Axes>"
            ],
            "image/png": "[encoded data removed]"
          },
          "metadata": {
            "needs_background": "light"
          }
        }
      ],
      "source": [
        "#-----------------------------------------------------------\n",
        "# Retrieve a list of list results on training and test data\n",
        "# sets for each training epoch\n",
        "#-----------------------------------------------------------\n",
        "acc=history.history['accuracy']\n",
        "val_acc=history.history['val_accuracy']\n",
        "loss=history.history['loss']\n",
        "val_loss=history.history['val_loss']\n",
        "\n",
        "epochs=range(len(acc)) # Get number of epochs\n",
        "\n",
        "#------------------------------------------------\n",
        "# Plot training and validation accuracy per epoch\n",
        "#------------------------------------------------\n",
        "plt.plot(epochs, acc, 'r', \"Training Accuracy\")\n",
        "plt.plot(epochs, val_acc, 'b', \"Validation Accuracy\")\n",
        "plt.title('Training and validation accuracy')\n",
        "plt.show()\n",
        "print(\"\")\n",
        "\n",
        "#------------------------------------------------\n",
        "# Plot training and validation loss per epoch\n",
        "#------------------------------------------------\n",
        "plt.plot(epochs, loss, 'r', \"Training Loss\")\n",
        "plt.plot(epochs, val_loss, 'b', \"Validation Loss\")\n",
        "plt.show()"
      ]
    },
    {
      "cell_type": "markdown",
      "metadata": {
        "id": "NYIaqsN2pav6"
      },
      "source": [
        "You will probably encounter that the model is overfitting, which means that it is doing a great job at classifying the images in the training set but struggles with new data. This is perfectly fine and you will learn how to mitigate this issue in the upcomming week.\n",
        "\n",
        "Before closing the assignment, be sure to also download the `history.pkl` file which contains the information of the training history of your model. You can download this file by running the cell below:"
      ]
    },
    {
      "cell_type": "code",
      "execution_count": 16,
      "metadata": {
        "id": "yWcrc9nZTsHj",
        "outputId": "2de6bdba-50e6-48af-db1b-e4ce924efe04",
        "colab": {
          "base_uri": "https://localhost:8080/",
          "height": 17
        }
      },
      "outputs": [
        {
          "output_type": "display_data",
          "data": {
            "text/plain": [
              "<IPython.core.display.Javascript object>"
            ],
            "application/javascript": [
              "\n",
              "    async function download(id, filename, size) {\n",
              "      if (!google.colab.kernel.accessAllowed) {\n",
              "        return;\n",
              "      }\n",
              "      const div = document.createElement('div');\n",
              "      const label = document.createElement('label');\n",
              "      label.textContent = `Downloading \"${filename}\": `;\n",
              "      div.appendChild(label);\n",
              "      const progress = document.createElement('progress');\n",
              "      progress.max = size;\n",
              "      div.appendChild(progress);\n",
              "      document.body.appendChild(div);\n",
              "\n",
              "      const buffers = [];\n",
              "      let downloaded = 0;\n",
              "\n",
              "      const channel = await google.colab.kernel.comms.open(id);\n",
              "      // Send a message to notify the kernel that we're ready.\n",
              "      channel.send({})\n",
              "\n",
              "      for await (const message of channel.messages) {\n",
              "        // Send a message to notify the kernel that we're ready.\n",
              "        channel.send({})\n",
              "        if (message.buffers) {\n",
              "          for (const buffer of message.buffers) {\n",
              "            buffers.push(buffer);\n",
              "            downloaded += buffer.byteLength;\n",
              "            progress.value = downloaded;\n",
              "          }\n",
              "        }\n",
              "      }\n",
              "      const blob = new Blob(buffers, {type: 'application/binary'});\n",
              "      const a = document.createElement('a');\n",
              "      a.href = window.URL.createObjectURL(blob);\n",
              "      a.download = filename;\n",
              "      div.appendChild(a);\n",
              "      a.click();\n",
              "      div.remove();\n",
              "    }\n",
              "  "
            ]
          },
          "metadata": {}
        },
        {
          "output_type": "display_data",
          "data": {
            "text/plain": [
              "<IPython.core.display.Javascript object>"
            ],
            "application/javascript": [
              "download(\"download_00f7d8b7-7d7d-47ba-a11e-1bf9acd01725\", \"history_augmented.pkl\", 1888)"
            ]
          },
          "metadata": {}
        }
      ],
      "source": [
        "def download_history():\n",
        "  import pickle\n",
        "  from google.colab import files\n",
        "\n",
        "  with open('history_augmented.pkl', 'wb') as f:\n",
        "    pickle.dump(history.history, f)\n",
        "\n",
        "  files.download('history_augmented.pkl')\n",
        "\n",
        "download_history()"
      ]
    },
    {
      "cell_type": "markdown",
      "metadata": {
        "id": "yEj7UVe0OgMq"
      },
      "source": [
        "You will also need to submit this notebook for grading. To download it, click on the `File` tab in the upper left corner of the screen then click on `Download` -> `Download .ipynb`. You can name it anything you want as long as it is a valid `.ipynb` (jupyter notebook) file."
      ]
    },
    {
      "cell_type": "markdown",
      "metadata": {
        "id": "joAaZSWWpbOI"
      },
      "source": [
        "**Congratulations on finishing this week's assignment!**\n",
        "\n",
        "You have successfully implemented a convolutional neural network that classifies images of cats and dogs, along with the helper functions needed to pre-process the images!\n",
        "\n",
        "**Keep it up!**"
      ]
    }
  ],
  "metadata": {
    "accelerator": "GPU",
    "kernelspec": {
      "display_name": "Python 3",
      "language": "python",
      "name": "python3"
    },
    "language_info": {
      "codemirror_mode": {
        "name": "ipython",
        "version": 3
      },
      "file_extension": ".py",
      "mimetype": "text/x-python",
      "name": "python",
      "nbconvert_exporter": "python",
      "pygments_lexer": "ipython3",
      "version": "3.7.4"
    },
    "colab": {
      "name": "C2W2_Assignment.ipynb",
      "provenance": []
    }
  },
  "nbformat": 4,
  "nbformat_minor": 0
}